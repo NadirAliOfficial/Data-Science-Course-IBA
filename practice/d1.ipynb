{
 "cells": [
  {
   "cell_type": "code",
   "execution_count": 1,
   "metadata": {},
   "outputs": [
    {
     "data": {
      "text/plain": [
       "1.0"
      ]
     },
     "execution_count": 1,
     "metadata": {},
     "output_type": "execute_result"
    }
   ],
   "source": [
    "from sklearn.datasets import load_iris\n",
    "from sklearn.model_selection import train_test_split\n",
    "from sklearn.metrics import accuracy_score\n",
    "from sklearn.neighbors import KNeighborsClassifier\n",
    "\n",
    "# Load the Iris dataset\n",
    "iris = load_iris()\n",
    "X = iris.data\n",
    "y = iris.target\n",
    "\n",
    "# Split the data into training and testing sets\n",
    "X_train, X_test, y_train, y_test = train_test_split(X, y, test_size=0.2, random_state=42)\n",
    "\n",
    "# Create a KNeighborsClassifier with k=3\n",
    "knn = KNeighborsClassifier(n_neighbors=3)\n",
    "knn.fit(X_train, y_train)\n",
    "y_pred = knn.predict(X_test)\n",
    "\n",
    "# Calculate the accuracy of the model\n",
    "accuracy = accuracy_score(y_test, y_pred)\n",
    "accuracy\n",
    "\n",
    "\n",
    "\n"
   ]
  },
  {
   "cell_type": "code",
   "execution_count": 2,
   "metadata": {},
   "outputs": [
    {
     "data": {
      "text/html": [
       "<div>\n",
       "<style scoped>\n",
       "    .dataframe tbody tr th:only-of-type {\n",
       "        vertical-align: middle;\n",
       "    }\n",
       "\n",
       "    .dataframe tbody tr th {\n",
       "        vertical-align: top;\n",
       "    }\n",
       "\n",
       "    .dataframe thead th {\n",
       "        text-align: right;\n",
       "    }\n",
       "</style>\n",
       "<table border=\"1\" class=\"dataframe\">\n",
       "  <thead>\n",
       "    <tr style=\"text-align: right;\">\n",
       "      <th></th>\n",
       "      <th>Unnamed: 0</th>\n",
       "      <th>Name</th>\n",
       "      <th>Age</th>\n",
       "      <th>City</th>\n",
       "      <th>Salary</th>\n",
       "    </tr>\n",
       "  </thead>\n",
       "  <tbody>\n",
       "    <tr>\n",
       "      <th>0</th>\n",
       "      <td>0</td>\n",
       "      <td>Shahzaib</td>\n",
       "      <td>22</td>\n",
       "      <td>Sukkur</td>\n",
       "      <td>70000</td>\n",
       "    </tr>\n",
       "    <tr>\n",
       "      <th>1</th>\n",
       "      <td>1</td>\n",
       "      <td>Nadir Ali</td>\n",
       "      <td>21</td>\n",
       "      <td>Sukkur</td>\n",
       "      <td>21000</td>\n",
       "    </tr>\n",
       "    <tr>\n",
       "      <th>2</th>\n",
       "      <td>2</td>\n",
       "      <td>Alice</td>\n",
       "      <td>25</td>\n",
       "      <td>New York</td>\n",
       "      <td>80000</td>\n",
       "    </tr>\n",
       "    <tr>\n",
       "      <th>3</th>\n",
       "      <td>3</td>\n",
       "      <td>Bob</td>\n",
       "      <td>30</td>\n",
       "      <td>Los Angeles</td>\n",
       "      <td>120000</td>\n",
       "    </tr>\n",
       "    <tr>\n",
       "      <th>4</th>\n",
       "      <td>4</td>\n",
       "      <td>Charlie</td>\n",
       "      <td>35</td>\n",
       "      <td>Chicago</td>\n",
       "      <td>110000</td>\n",
       "    </tr>\n",
       "  </tbody>\n",
       "</table>\n",
       "</div>"
      ],
      "text/plain": [
       "   Unnamed: 0       Name  Age         City  Salary\n",
       "0           0   Shahzaib   22       Sukkur   70000\n",
       "1           1  Nadir Ali   21       Sukkur   21000\n",
       "2           2      Alice   25     New York   80000\n",
       "3           3        Bob   30  Los Angeles  120000\n",
       "4           4    Charlie   35      Chicago  110000"
      ]
     },
     "execution_count": 2,
     "metadata": {},
     "output_type": "execute_result"
    }
   ],
   "source": [
    "import pandas as pd\n",
    "\n",
    "data = pd.read_csv('/home/nak/Python_IBA/data/modified_employees.csv')\n",
    "df = pd.DataFrame(data)\n",
    "\n",
    "df.head()"
   ]
  },
  {
   "cell_type": "code",
   "execution_count": 3,
   "metadata": {},
   "outputs": [
    {
     "name": "stdout",
     "output_type": "stream",
     "text": [
      "Model Coefficients: [2066.76557864]\n",
      "Model Intercept: 21876.854599406535\n",
      "Mean Squared Error: 983834559.8270657\n",
      "Predictions on Test Data: [67345.69732938 65278.93175074]\n"
     ]
    }
   ],
   "source": [
    "import pandas as pd\n",
    "from sklearn.model_selection import train_test_split\n",
    "from sklearn.linear_model import LinearRegression\n",
    "from sklearn.metrics import mean_squared_error\n",
    "\n",
    "# Load the dataset\n",
    "file_path = '/home/nak/Python_IBA/data/modified_employees.csv'\n",
    "data = pd.read_csv(file_path)\n",
    "\n",
    "# Step 1: Data Cleaning\n",
    "# Remove unnecessary columns\n",
    "data = data.drop(columns=['Unnamed: 0', 'Name', 'City'])\n",
    "\n",
    "# Step 2: Define Features (X) and Target (y)\n",
    "X = data[['Age']]  # Independent variable\n",
    "y = data['Salary']  # Dependent variable\n",
    "\n",
    "# Step 3: Split Data into Training and Test Sets\n",
    "X_train, X_test, y_train, y_test = train_test_split(X, y, test_size=0.2, random_state=42)\n",
    "\n",
    "# Step 4: Train a Regression Model\n",
    "model = LinearRegression()\n",
    "model.fit(X_train, y_train)\n",
    "\n",
    "# Step 5: Evaluate the Model\n",
    "y_pred = model.predict(X_test)\n",
    "mse = mean_squared_error(y_test, y_pred)\n",
    "\n",
    "# Output Results\n",
    "print(\"Model Coefficients:\", model.coef_)\n",
    "print(\"Model Intercept:\", model.intercept_)\n",
    "print(\"Mean Squared Error:\", mse)\n",
    "print(\"Predictions on Test Data:\", y_pred)\n"
   ]
  },
  {
   "cell_type": "code",
   "execution_count": 5,
   "metadata": {},
   "outputs": [
    {
     "data": {
      "text/html": [
       "<div>\n",
       "<style scoped>\n",
       "    .dataframe tbody tr th:only-of-type {\n",
       "        vertical-align: middle;\n",
       "    }\n",
       "\n",
       "    .dataframe tbody tr th {\n",
       "        vertical-align: top;\n",
       "    }\n",
       "\n",
       "    .dataframe thead th {\n",
       "        text-align: right;\n",
       "    }\n",
       "</style>\n",
       "<table border=\"1\" class=\"dataframe\">\n",
       "  <thead>\n",
       "    <tr style=\"text-align: right;\">\n",
       "      <th></th>\n",
       "      <th>Amount</th>\n",
       "      <th>Transaction Type</th>\n",
       "      <th>Anomaly</th>\n",
       "    </tr>\n",
       "  </thead>\n",
       "  <tbody>\n",
       "    <tr>\n",
       "      <th>0</th>\n",
       "      <td>100</td>\n",
       "      <td>1</td>\n",
       "      <td>1</td>\n",
       "    </tr>\n",
       "    <tr>\n",
       "      <th>1</th>\n",
       "      <td>500</td>\n",
       "      <td>1</td>\n",
       "      <td>1</td>\n",
       "    </tr>\n",
       "    <tr>\n",
       "      <th>2</th>\n",
       "      <td>10</td>\n",
       "      <td>0</td>\n",
       "      <td>1</td>\n",
       "    </tr>\n",
       "    <tr>\n",
       "      <th>3</th>\n",
       "      <td>200</td>\n",
       "      <td>0</td>\n",
       "      <td>1</td>\n",
       "    </tr>\n",
       "    <tr>\n",
       "      <th>4</th>\n",
       "      <td>10000</td>\n",
       "      <td>1</td>\n",
       "      <td>-1</td>\n",
       "    </tr>\n",
       "    <tr>\n",
       "      <th>5</th>\n",
       "      <td>230</td>\n",
       "      <td>1</td>\n",
       "      <td>1</td>\n",
       "    </tr>\n",
       "    <tr>\n",
       "      <th>6</th>\n",
       "      <td>200000</td>\n",
       "      <td>0</td>\n",
       "      <td>-1</td>\n",
       "    </tr>\n",
       "  </tbody>\n",
       "</table>\n",
       "</div>"
      ],
      "text/plain": [
       "   Amount  Transaction Type  Anomaly\n",
       "0     100                 1        1\n",
       "1     500                 1        1\n",
       "2      10                 0        1\n",
       "3     200                 0        1\n",
       "4   10000                 1       -1\n",
       "5     230                 1        1\n",
       "6  200000                 0       -1"
      ]
     },
     "execution_count": 5,
     "metadata": {},
     "output_type": "execute_result"
    }
   ],
   "source": [
    "# Use an anomaly detection algorithm\n",
    "from sklearn.ensemble import IsolationForest\n",
    "\n",
    "# Example transaction data\n",
    "data = {'Amount': [100, 500, 10, 200, 10000, 230, 200000],\n",
    "        'Transaction Type': [1, 1, 0, 0, 1,1, 0]}  # 1 = purchase, 0 = refund\n",
    "df = pd.DataFrame(data)\n",
    "\n",
    "# Train model\n",
    "clf = IsolationForest(contamination=0.2)  # Set contamination level\n",
    "clf.fit(df[['Amount']])\n",
    "df['Anomaly'] = clf.predict(df[['Amount']])\n",
    "\n",
    "df\n"
   ]
  },
  {
   "cell_type": "code",
   "execution_count": 6,
   "metadata": {},
   "outputs": [
    {
     "name": "stdout",
     "output_type": "stream",
     "text": [
      "User similarity matrix:\n",
      "[[1.  0.5 0.5]\n",
      " [0.5 1.  0.5]\n",
      " [0.5 0.5 1. ]]\n"
     ]
    }
   ],
   "source": [
    "from sklearn.metrics.pairwise import cosine_similarity\n",
    "import numpy as np\n",
    "\n",
    "# Example user-item interaction matrix\n",
    "data = {'ProductA': [1, 0, 1], 'ProductB': [0, 1, 1], 'ProductC': [1, 1, 0]}\n",
    "df = pd.DataFrame(data, index=['User1', 'User2', 'User3'])\n",
    "\n",
    "# Compute similarity\n",
    "similarity = cosine_similarity(df)\n",
    "print(\"User similarity matrix:\")\n",
    "print(similarity)\n"
   ]
  },
  {
   "cell_type": "code",
   "execution_count": 7,
   "metadata": {},
   "outputs": [
    {
     "name": "stdout",
     "output_type": "stream",
     "text": [
      "   CustomerID  Annual Spend  Cluster\n",
      "0           1           500        1\n",
      "1           2          1000        0\n",
      "2           3           200        1\n",
      "3           4           800        0\n"
     ]
    }
   ],
   "source": [
    "from sklearn.cluster import KMeans\n",
    "\n",
    "# Example customer data\n",
    "data = {'CustomerID': [1, 2, 3, 4],\n",
    "        'Annual Spend': [500, 1000, 200, 800]}\n",
    "df = pd.DataFrame(data)\n",
    "\n",
    "# Clustering\n",
    "kmeans = KMeans(n_clusters=2)\n",
    "df['Cluster'] = kmeans.fit_predict(df[['Annual Spend']])\n",
    "\n",
    "print(df)\n"
   ]
  },
  {
   "cell_type": "code",
   "execution_count": 31,
   "metadata": {},
   "outputs": [
    {
     "data": {
      "image/png": "[encoded data removed]",
      "text/plain": [
       "<Figure size 640x480 with 1 Axes>"
      ]
     },
     "metadata": {},
     "output_type": "display_data"
    }
   ],
   "source": [
    "import pandas as pd\n",
    "import numpy as np\n",
    "import matplotlib.pyplot as plt\n",
    "import seaborn as sns\n",
    "\n",
    "\n",
    "data = {\n",
    "    'X': [1, 2, 3, 4, 5],\n",
    "    'Y': [2, 4, 6, 8, 10]\n",
    "}\n",
    "\n",
    "df = pd.DataFrame(data)\n",
    "\n",
    "sns.set_style('darkgrid')\n",
    "sns.barplot(x='X', y='Y', hue='X', data=df, palette='Set2', legend=True)\n",
    "plt.title('X and Y')\n",
    "plt.show()"
   ]
  },
  {
   "cell_type": "code",
   "execution_count": 22,
   "metadata": {},
   "outputs": [
    {
     "name": "stdout",
     "output_type": "stream",
     "text": [
      "Your project name is Pakistan Tourism Data Analysis.\n"
     ]
    }
   ],
   "source": [
    "import pandas as pd\n",
    "import numpy as np\n",
    "\n",
    "# Load the CSV file\n",
    "data = pd.read_csv(\"/home/nak/Python_IBA/practice/projects.csv\")\n",
    "df = pd.DataFrame(data)\n",
    "\n",
    "# Take user input\n",
    "name = input('Enter Your Name: ')\n",
    "\n",
    "# Check if the name exists in the \"Name\" column\n",
    "arr = np.array(df['Name'])\n",
    "if name not in arr:\n",
    "    print('Sorry, we do not have your project data in our database.')\n",
    "else:\n",
    "    # Locate the row with the matching name and get the project name\n",
    "    project_name = df.loc[df['Name'] == name, 'Project Name'].values[0]\n",
    "    print(f'Your project name is {project_name}.')\n"
   ]
  },
  {
   "cell_type": "code",
   "execution_count": 43,
   "metadata": {},
   "outputs": [
    {
     "data": {
      "image/png": "[encoded data removed]",
      "text/plain": [
       "<Figure size 640x480 with 1 Axes>"
      ]
     },
     "metadata": {},
     "output_type": "display_data"
    }
   ],
   "source": [
    "x = [12, 34, 32]\n",
    "y = ['X', 'Y', 'Z']\n",
    "\n",
    "plt.pie(x, labels=y, autopct=\"%1.0f%%\", explode=[0.1, 0.01, 0.01])\n",
    "plt.show()"
   ]
  },
  {
   "cell_type": "code",
   "execution_count": null,
   "metadata": {},
   "outputs": [],
   "source": []
  },
  {
   "cell_type": "code",
   "execution_count": 66,
   "metadata": {},
   "outputs": [
    {
     "name": "stdout",
     "output_type": "stream",
     "text": [
      "nadir is 12 years old\n",
      "ali is 13 years old\n"
     ]
    }
   ],
   "source": [
    "names = ['nadir', 'ali']\n",
    "ages = [12, 13]\n",
    "for i in range(len(names)):\n",
    "    print(names[i], \"is\", ages[i], \"years old\")"
   ]
  },
  {
   "cell_type": "code",
   "execution_count": 8,
   "metadata": {},
   "outputs": [
    {
     "name": "stdout",
     "output_type": "stream",
     "text": [
      "You Purchased the Orange x32 and The Price is 224\n"
     ]
    }
   ],
   "source": [
    "products = ['Apple', 'Banana', 'Orange']\n",
    "prices = [10, 5, 7]\n",
    "\n",
    "buy = input('Select the product: ')\n",
    "qty = int(input('Quantity: '))\n",
    "\n",
    "if buy in products:\n",
    "    index = products.index(buy)\n",
    "    print(f'You Purchased the {buy} x{qty} and The Price is {qty*(prices[index])}')\n",
    "else:\n",
    "    print('Product not found')"
   ]
  },
  {
   "cell_type": "code",
   "execution_count": 7,
   "metadata": {},
   "outputs": [
    {
     "name": "stdout",
     "output_type": "stream",
     "text": [
      "The Price of Apple is 10\n",
      "The Price of Banana is 5\n",
      "The Price of Orange is 7\n"
     ]
    }
   ],
   "source": [
    "for i in range(len(products)):\n",
    "    print(f'The Price of {products[i]} is {prices[i]}')"
   ]
  },
  {
   "cell_type": "code",
   "execution_count": 13,
   "metadata": {},
   "outputs": [],
   "source": [
    "import pandas as pd\n",
    "import matplotlib.pyplot as plt\n",
    "import seaborn as sns"
   ]
  },
  {
   "cell_type": "code",
   "execution_count": 14,
   "metadata": {},
   "outputs": [
    {
     "name": "stdout",
     "output_type": "stream",
     "text": [
      "        Make   Model  Year  Price  Mileage\n",
      "0     Toyota   Camry  2020  24000    15000\n",
      "1      Honda   Civic  2019  22000    20000\n",
      "2       Ford   Focus  2018  18000    30000\n",
      "3  Chevrolet  Malibu  2020  23000    12000\n",
      "4     Nissan  Altima  2017  15000    40000\n"
     ]
    }
   ],
   "source": [
    "# Create a sample dataset\n",
    "data = {\n",
    "    'Make': ['Toyota', 'Honda', 'Ford', 'Chevrolet', 'Nissan'],\n",
    "    'Model': ['Camry', 'Civic', 'Focus', 'Malibu', 'Altima'],\n",
    "    'Year': [2020, 2019, 2018, 2020, 2017],\n",
    "    'Price': [24000, 22000, 18000, 23000, 15000],\n",
    "    'Mileage': [15000, 20000, 30000, 12000, 40000]\n",
    "}\n",
    "\n",
    "# Convert to DataFrame\n",
    "df = pd.DataFrame(data)\n",
    "\n",
    "# Display the DataFrame\n",
    "print(df)"
   ]
  },
  {
   "cell_type": "code",
   "execution_count": 15,
   "metadata": {},
   "outputs": [
    {
     "name": "stdout",
     "output_type": "stream",
     "text": [
      "<class 'pandas.core.frame.DataFrame'>\n",
      "RangeIndex: 5 entries, 0 to 4\n",
      "Data columns (total 5 columns):\n",
      " #   Column   Non-Null Count  Dtype \n",
      "---  ------   --------------  ----- \n",
      " 0   Make     5 non-null      object\n",
      " 1   Model    5 non-null      object\n",
      " 2   Year     5 non-null      int64 \n",
      " 3   Price    5 non-null      int64 \n",
      " 4   Mileage  5 non-null      int64 \n",
      "dtypes: int64(3), object(2)\n",
      "memory usage: 332.0+ bytes\n",
      "None\n",
      "             Year        Price       Mileage\n",
      "count     5.00000      5.00000      5.000000\n",
      "mean   2018.80000  20400.00000  23400.000000\n",
      "std       1.30384   3781.53408  11523.888233\n",
      "min    2017.00000  15000.00000  12000.000000\n",
      "25%    2018.00000  18000.00000  15000.000000\n",
      "50%    2019.00000  22000.00000  20000.000000\n",
      "75%    2020.00000  23000.00000  30000.000000\n",
      "max    2020.00000  24000.00000  40000.000000\n"
     ]
    }
   ],
   "source": [
    "# Get basic information about the dataset\n",
    "print(df.info())\n",
    "\n",
    "# Display summary statistics\n",
    "print(df.describe())"
   ]
  },
  {
   "cell_type": "code",
   "execution_count": 16,
   "metadata": {},
   "outputs": [
    {
     "data": {
      "image/png": "[encoded data removed]",
      "text/plain": [
       "<Figure size 1000x600 with 1 Axes>"
      ]
     },
     "metadata": {},
     "output_type": "display_data"
    }
   ],
   "source": [
    "# Set the aesthetics for the plots\n",
    "sns.set(style=\"whitegrid\")\n",
    "\n",
    "# Create a scatter plot\n",
    "plt.figure(figsize=(10, 6))\n",
    "sns.scatterplot(data=df, x='Mileage', y='Price', hue='Make', style='Year', s=100, alpha=0.7)\n",
    "plt.title('Price vs Mileage of Cars')\n",
    "plt.xlabel('Mileage (in miles)')\n",
    "plt.ylabel('Price (in USD)')\n",
    "plt.legend(title='Car Make', bbox_to_anchor=(1.05, 1), loc='upper left')\n",
    "plt.show()"
   ]
  },
  {
   "cell_type": "code",
   "execution_count": 22,
   "metadata": {},
   "outputs": [
    {
     "name": "stderr",
     "output_type": "stream",
     "text": [
      "/tmp/ipykernel_8179/4220441931.py:6: FutureWarning: \n",
      "\n",
      "Passing `palette` without assigning `hue` is deprecated and will be removed in v0.14.0. Assign the `x` variable to `hue` and set `legend=False` for the same effect.\n",
      "\n",
      "  sns.barplot(data=avg_price_by_year, x='Year', y='Price', palette='viridis')\n"
     ]
    },
    {
     "data": {
      "image/png": "[encoded data removed]",
      "text/plain": [
       "<Figure size 1000x600 with 1 Axes>"
      ]
     },
     "metadata": {},
     "output_type": "display_data"
    }
   ],
   "source": [
    "# Calculate average price by year\n",
    "avg_price_by_year = df.groupby('Year')['Price'].mean().reset_index()\n",
    "\n",
    "# Plot the average price by year\n",
    "plt.figure(figsize=(10, 6))\n",
    "sns.barplot(data=avg_price_by_year, x='Year', y='Price', palette='viridis')\n",
    "plt.title('Average Car Price by Year')\n",
    "plt.xlabel('Year')\n",
    "plt.ylabel('Average Price (in USD)')\n",
    "plt.xticks(rotation=45)\n",
    "plt.show()"
   ]
  },
  {
   "cell_type": "code",
   "execution_count": null,
   "metadata": {},
   "outputs": [],
   "source": []
  }
 ],
 "metadata": {
  "kernelspec": {
   "display_name": "base",
   "language": "python",
   "name": "python3"
  },
  "language_info": {
   "codemirror_mode": {
    "name": "ipython",
    "version": 3
   },
   "file_extension": ".py",
   "mimetype": "text/x-python",
   "name": "python",
   "nbconvert_exporter": "python",
   "pygments_lexer": "ipython3",
   "version": "3.12.2"
  }
 },
 "nbformat": 4,
 "nbformat_minor": 2
}
