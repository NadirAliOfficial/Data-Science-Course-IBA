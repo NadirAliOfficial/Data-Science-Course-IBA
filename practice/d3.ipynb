{
 "cells": [
  {
   "cell_type": "code",
   "execution_count": null,
   "metadata": {},
   "outputs": [
    {
     "name": "stdout",
     "output_type": "stream",
     "text": [
      "Today is day 3 of my coding practice.\n"
     ]
    }
   ],
   "source": [
    "print(f\"Today is day 3 of my coding practice.\")"
   ]
  },
  {
   "cell_type": "code",
   "execution_count": 28,
   "metadata": {},
   "outputs": [
    {
     "name": "stdout",
     "output_type": "stream",
     "text": [
      "You are 12 years old. After 6 years you will be able to Vote.\n"
     ]
    }
   ],
   "source": [
    "age = int(input('Enter your age: '))\n",
    "\n",
    "if age >= 18:\n",
    "    name = input('Enter your name: ')\n",
    "    print(f'Hello, {name}! You are {age} years old. And you can Vote.')\n",
    "else:\n",
    "    dif = 18 - age\n",
    "    if dif > 1:\n",
    "        year = 'years'\n",
    "    else:\n",
    "        year = 'year'\n",
    "    print(f'You are {age} years old. After {dif} {year} you will be able to Vote.')\n",
    "\n"
   ]
  },
  {
   "cell_type": "code",
   "execution_count": null,
   "metadata": {},
   "outputs": [],
   "source": []
  },
  {
   "cell_type": "code",
   "execution_count": 8,
   "metadata": {},
   "outputs": [
    {
     "name": "stdout",
     "output_type": "stream",
     "text": [
      "Name: John Doe, Age: 15, Grade: 12\n"
     ]
    }
   ],
   "source": [
    "# use Class \n",
    "class Student:\n",
    "    def __init__(self, name, age, grade):\n",
    "        self.name = name\n",
    "        self.age = age\n",
    "        self.grade = grade\n",
    "    def display(self):\n",
    "        print(f\"Name: {self.name}, Age: {self.age}, Grade: {self.grade}\")\n",
    "\n",
    "\n",
    "student = Student(\"John Doe\", 15, 12)\n",
    "student.display()\n",
    "                                                                "
   ]
  },
  {
   "cell_type": "code",
   "execution_count": 9,
   "metadata": {},
   "outputs": [
    {
     "name": "stdout",
     "output_type": "stream",
     "text": [
      "Name: John Doe, Age: 15, Grade: 12\n"
     ]
    }
   ],
   "source": [
    "print('Name: John Doe, Age: 15, Grade: 12')"
   ]
  },
  {
   "cell_type": "code",
   "execution_count": 25,
   "metadata": {},
   "outputs": [
    {
     "name": "stdout",
     "output_type": "stream",
     "text": [
      "Name: Alice Johnson\n",
      "Student ID: 12345\n",
      "Grade Level: 10\n",
      "Grades: {'Math': 85, 'Science': 92, 'English': 88}\n",
      "Predicted GPA with AI: 88.57\n",
      "Calculated GPA: 88.33\n",
      "Attendance Percentage: 90.00%\n",
      "------------------\n",
      "Name: Bob Smith\n",
      "Student ID: 67890\n",
      "Grade Level: 12\n",
      "Grades: {'Math': 78, 'Science': 85, 'English': 82}\n",
      "Predicted GPA with AI: 82.40\n",
      "Calculated GPA: 81.67\n",
      "Attendance Percentage: 80.00%\n"
     ]
    }
   ],
   "source": [
    "from sklearn.ensemble import RandomForestRegressor\n",
    "import numpy as np\n",
    "\n",
    "# 1. Basic Student Class\n",
    "class Student:\n",
    "    def __init__(self, name, student_id, grade_level, attendance_percentage, grades):\n",
    "        self.name = name\n",
    "        self.student_id = student_id\n",
    "        self.grade_level = grade_level\n",
    "        self.attendance_percentage = attendance_percentage  \n",
    "        self.grades = grades \n",
    "\n",
    "    def add_grade(self, subject, grade):\n",
    "        \"\"\"Dynamically adds or updates grade and automatically adds the subject.\"\"\"\n",
    "        self.grades[subject] = grade\n",
    "\n",
    "    def calculate_gpa(self):\n",
    "        \"\"\"Calculate GPA based on grades.\"\"\"\n",
    "        total_grades = sum(self.grades.values())\n",
    "        num_subjects = len(self.grades)\n",
    "        if num_subjects > 0:\n",
    "            return total_grades / num_subjects\n",
    "        else:\n",
    "            return 0.0\n",
    "\n",
    "    def predict_gpa_with_ai(self, model):\n",
    "        \"\"\"Use AI to predict GPA based on attendance and grades.\"\"\"\n",
    "        # Features: [attendance_percentage, grade_math, grade_science, grade_english]\n",
    "        features = [self.attendance_percentage] + list(self.grades.values())\n",
    "        predicted_gpa = model.predict([features])\n",
    "        return predicted_gpa[0]\n",
    "\n",
    "    def display_info(self):\n",
    "        \"\"\"Displays student's information.\"\"\"\n",
    "        print(f\"Name: {self.name}\")\n",
    "        print(f\"Student ID: {self.student_id}\")\n",
    "        print(f\"Grade Level: {self.grade_level}\")\n",
    "        print(f\"Grades: {self.grades}\")\n",
    "        print(f\"Predicted GPA with AI: {self.predict_gpa_with_ai(model):.2f}\")\n",
    "        print(f\"Calculated GPA: {self.calculate_gpa():.2f}\")\n",
    "        print(f\"Attendance Percentage: {self.attendance_percentage:.2f}%\")\n",
    "\n",
    "\n",
    "X = np.array([\n",
    "    [90, 85, 92, 88],  # Student 1\n",
    "    [80, 78, 85, 82],  # Student 2\n",
    "    [95, 88, 94, 91],  # Student 3\n",
    "    [70, 75, 80, 77],  # Student 4\n",
    "    [85, 90, 85, 87]   # Student 5\n",
    "])\n",
    "\n",
    "# y = GPAs corresponding to the above students\n",
    "y = np.array([88, 82, 91, 77, 88])\n",
    "\n",
    "# Train the model\n",
    "model = RandomForestRegressor(n_estimators=100)\n",
    "model.fit(X, y)\n",
    "\n",
    "# 3. Create and Use Students\n",
    "# Student 1\n",
    "student1 = Student(\"Alice Johnson\", 12345, 10, 90, {\"Math\": 85, \"Science\": 92, \"English\": 88})\n",
    "# Student 2\n",
    "student2 = Student(\"Bob Smith\", 67890, 12, 80, {\"Math\": 78, \"Science\": 85, \"English\": 82})\n",
    "\n",
    "# Display information and predictions\n",
    "student1.display_info()\n",
    "print('------------------')\n",
    "student2.display_info()\n"
   ]
  },
  {
   "cell_type": "code",
   "execution_count": null,
   "metadata": {},
   "outputs": [],
   "source": []
  },
  {
   "cell_type": "code",
   "execution_count": null,
   "metadata": {},
   "outputs": [],
   "source": []
  },
  {
   "cell_type": "code",
   "execution_count": null,
   "metadata": {},
   "outputs": [],
   "source": []
  }
 ],
 "metadata": {
  "kernelspec": {
   "display_name": "base",
   "language": "python",
   "name": "python3"
  },
  "language_info": {
   "codemirror_mode": {
    "name": "ipython",
    "version": 3
   },
   "file_extension": ".py",
   "mimetype": "text/x-python",
   "name": "python",
   "nbconvert_exporter": "python",
   "pygments_lexer": "ipython3",
   "version": "3.12.2"
  }
 },
 "nbformat": 4,
 "nbformat_minor": 2
}
