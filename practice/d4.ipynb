{
 "cells": [
  {
   "cell_type": "code",
   "execution_count": 1,
   "metadata": {},
   "outputs": [
    {
     "name": "stdout",
     "output_type": "stream",
     "text": [
      "Day 4 of Practice\n"
     ]
    }
   ],
   "source": [
    "print('Day 4 of Practice')"
   ]
  },
  {
   "cell_type": "code",
   "execution_count": 7,
   "metadata": {},
   "outputs": [
    {
     "name": "stdout",
     "output_type": "stream",
     "text": [
      "Number is Odd\n"
     ]
    }
   ],
   "source": [
    "num = int(input (\"Enter number: \"))\n",
    "\n",
    "if num % 2 == 0:\n",
    "    print('Number is Even')\n",
    "else:\n",
    "    print('Number is Odd')\n",
    "\n",
    "\n"
   ]
  },
  {
   "cell_type": "code",
   "execution_count": 20,
   "metadata": {},
   "outputs": [
    {
     "name": "stdout",
     "output_type": "stream",
     "text": [
      "15 is not a prime number.\n"
     ]
    }
   ],
   "source": [
    "# Get user input\n",
    "number = int(input(\"Enter a number to check if it's prime: \"))\n",
    "\n",
    "# Check if the number is prime\n",
    "if number <= 1:\n",
    "    print(f\"{number} is not a prime number.\")\n",
    "elif number == 2:\n",
    "    print(f\"{number} is a prime number.\")\n",
    "elif number % 2 == 0:\n",
    "    print(f\"{number} is not a prime number.\")\n",
    "else:\n",
    "    # Check divisibility up to the square root of the number\n",
    "    if number % 3 != 0 and number % 5 != 0:\n",
    "        print(f\"{number} is a prime number.\")\n",
    "    else:\n",
    "        print(f\"{number} is not a prime number.\")\n"
   ]
  },
  {
   "cell_type": "code",
   "execution_count": null,
   "metadata": {},
   "outputs": [],
   "source": []
  }
 ],
 "metadata": {
  "kernelspec": {
   "display_name": "base",
   "language": "python",
   "name": "python3"
  },
  "language_info": {
   "codemirror_mode": {
    "name": "ipython",
    "version": 3
   },
   "file_extension": ".py",
   "mimetype": "text/x-python",
   "name": "python",
   "nbconvert_exporter": "python",
   "pygments_lexer": "ipython3",
   "version": "3.12.2"
  }
 },
 "nbformat": 4,
 "nbformat_minor": 2
}
