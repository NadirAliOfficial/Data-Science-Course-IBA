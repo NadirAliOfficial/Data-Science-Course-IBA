{
 "cells": [
  {
   "cell_type": "code",
   "execution_count": 4,
   "metadata": {},
   "outputs": [
    {
     "name": "stdout",
     "output_type": "stream",
     "text": [
      "One 0\n",
      "---------\n",
      "Two 0\n",
      "One 1\n",
      "---------\n",
      "Two 1\n",
      "One 2\n",
      "---------\n",
      "Two 3\n",
      "One 3\n",
      "---------\n",
      "Two 6\n",
      "One 4\n",
      "---------\n",
      "Two 10\n",
      "------\n",
      "sum =  10\n"
     ]
    }
   ],
   "source": [
    "k = 0\n",
    "lst = []\n",
    "for j in range(5):\n",
    "    lst.append(j)\n",
    "    print('One',j)\n",
    "    k += j\n",
    "    print('---------')\n",
    "    print('Two',k)\n",
    "print('------')\n",
    "print('sum = ', k)"
   ]
  },
  {
   "cell_type": "code",
   "execution_count": 1,
   "metadata": {},
   "outputs": [
    {
     "name": "stdout",
     "output_type": "stream",
     "text": [
      "\n",
      "--- Kinetic Energy Calculation ---\n",
      "Formula: KE = 1/2 × mass × velocity²\n",
      "\n",
      "Given:\n",
      "Mass = 12.0\n",
      "Velocity = 12.0\n",
      "\n",
      "Calculation Steps:\n",
      "Step 1: Square the velocity\n",
      "        12.0² = 144.0\n",
      "\n",
      "Step 2: Multiply 1/2 by mass\n",
      "        1/2 × 12.0 = 6.0\n",
      "\n",
      "Step 3: Multiply the results\n",
      "        6.0 × 144.0 = 864.0\n",
      "\n",
      "Final Answer:\n",
      "Kinetic Energy = 864.0\n"
     ]
    }
   ],
   "source": [
    "\n",
    "mass = float(input(\"Enter mass: \"))\n",
    "velocity = float(input(\"Enter velocity: \"))\n",
    "\n",
    "# Step 1: Show the formula\n",
    "print(\"\\n--- Kinetic Energy Calculation ---\")\n",
    "print(\"Formula: KE = 1/2 × mass × velocity²\")\n",
    "\n",
    "# Step 2: Show the values\n",
    "print(f\"\\nGiven:\")\n",
    "print(f\"Mass = {mass}\")\n",
    "print(f\"Velocity = {velocity}\")\n",
    "\n",
    "# Step 3: Calculate step by step\n",
    "print(\"\\nCalculation Steps:\")\n",
    "print(f\"Step 1: Square the velocity\")\n",
    "velocity_squared = velocity ** 2\n",
    "print(f\"        {velocity}² = {velocity_squared}\")\n",
    "\n",
    "print(\"\\nStep 2: Multiply 1/2 by mass\")\n",
    "half_mass = 0.5 * mass\n",
    "print(f\"        1/2 × {mass} = {half_mass}\")\n",
    "\n",
    "print(\"\\nStep 3: Multiply the results\")\n",
    "kinetic_energy = 0.5 * mass * (velocity ** 2)\n",
    "print(f\"        {half_mass} × {velocity_squared} = {kinetic_energy}\")\n",
    "\n",
    "# Final result\n",
    "print(\"\\nFinal Answer:\")\n",
    "print(f\"Kinetic Energy = {kinetic_energy}\")\n"
   ]
  },
  {
   "cell_type": "code",
   "execution_count": 7,
   "metadata": {},
   "outputs": [
    {
     "name": "stdout",
     "output_type": "stream",
     "text": [
      "Hello, Nadir Ali Khan! Welcome to the program.\n"
     ]
    }
   ],
   "source": [
    "name = input('Enter your name please: ')\n",
    "\n",
    "if name == '':\n",
    "    print('You did not enter your name.')\n",
    "else:\n",
    "    print(f'Hello, {name}! Welcome to the program.')"
   ]
  },
  {
   "cell_type": "code",
   "execution_count": 9,
   "metadata": {},
   "outputs": [
    {
     "name": "stdout",
     "output_type": "stream",
     "text": [
      "You are not welcome.\n"
     ]
    }
   ],
   "source": [
    "if name == 'nadir':\n",
    "    print('You are welcome!')\n",
    "else:\n",
    "    print('You are not welcome.')"
   ]
  },
  {
   "cell_type": "code",
   "execution_count": 12,
   "metadata": {},
   "outputs": [
    {
     "name": "stdout",
     "output_type": "stream",
     "text": [
      "Given: x - 20% of x = 144\n",
      "Replace 20% of x with 0.2 * x:\n",
      "x - 0.2 * x = 240\n",
      "Simplify the equation by combining terms (x - 0.2x = 0.8x):\n",
      "0.8 * x = 240\n",
      "To find x, divide 144 by 0.8:\n",
      "x = 180.0\n",
      "The value of x is: 180.0\n"
     ]
    }
   ],
   "source": [
    "# Step 1: Define the given value (result after subtracting 20% from x)\n",
    "result = 144\n",
    "print(f\"Given: x - 20% of x = {result}\")\n",
    "\n",
    "# Step 2: Replace 20% with 0.2 * x\n",
    "print(\"Replace 20% of x with 0.2 * x:\")\n",
    "print(\"x - 0.2 * x = 240\")\n",
    "\n",
    "# Step 3: Simplify the equation\n",
    "print(\"Simplify the equation by combining terms (x - 0.2x = 0.8x):\")\n",
    "print(\"0.8 * x = 240\")\n",
    "\n",
    "# Step 4: Solve for x by dividing result by 0.8\n",
    "x = result / 0.8\n",
    "print(f\"To find x, divide {result} by 0.8:\")\n",
    "print(f\"x = {x}\")\n",
    "\n",
    "# Step 5: Display the final result\n",
    "print(f\"The value of x is: {x}\")\n"
   ]
  },
  {
   "cell_type": "code",
   "execution_count": 8,
   "metadata": {},
   "outputs": [
    {
     "name": "stdout",
     "output_type": "stream",
     "text": [
      "You have to charge 195.0 to get 156.0\n"
     ]
    }
   ],
   "source": [
    "net_amount = float(input('Enter amount: '))\n",
    "x = net_amount/0.8\n",
    "print(f'You have to charge {x} to get {net_amount}')"
   ]
  },
  {
   "cell_type": "code",
   "execution_count": 37,
   "metadata": {},
   "outputs": [
    {
     "name": "stdout",
     "output_type": "stream",
     "text": [
      "Me =  ['A', 'l', 'i']\n"
     ]
    }
   ],
   "source": [
    "me = 'Nadir'\n",
    "you = 'Ali'\n",
    "\n",
    "who = []\n",
    "\n",
    "for me in you:\n",
    "    who.append(me)\n",
    "    \n",
    "print('Me = ',who)"
   ]
  },
  {
   "cell_type": "code",
   "execution_count": 40,
   "metadata": {},
   "outputs": [
    {
     "name": "stdout",
     "output_type": "stream",
     "text": [
      "Park =  G\n",
      "Park =  a\n",
      "Park =  r\n",
      "Park =  d\n",
      "Park =  e\n",
      "Park =  n\n"
     ]
    }
   ],
   "source": [
    "park = 'Garden'\n",
    "for pee in park:\n",
    "    print('Park = ', pee)"
   ]
  },
  {
   "cell_type": "code",
   "execution_count": 3,
   "metadata": {},
   "outputs": [
    {
     "data": {
      "text/plain": [
       "480"
      ]
     },
     "execution_count": 3,
     "metadata": {},
     "output_type": "execute_result"
    }
   ],
   "source": [
    "240 + 96 + 144"
   ]
  },
  {
   "cell_type": "code",
   "execution_count": 11,
   "metadata": {},
   "outputs": [],
   "source": [
    "x = 195 * 20/100"
   ]
  },
  {
   "cell_type": "code",
   "execution_count": 12,
   "metadata": {},
   "outputs": [
    {
     "name": "stdout",
     "output_type": "stream",
     "text": [
      "153.0\n"
     ]
    }
   ],
   "source": [
    "y = 192 - x\n",
    "print(y)"
   ]
  },
  {
   "cell_type": "code",
   "execution_count": 13,
   "metadata": {},
   "outputs": [
    {
     "data": {
      "text/plain": [
       "39.0"
      ]
     },
     "execution_count": 13,
     "metadata": {},
     "output_type": "execute_result"
    }
   ],
   "source": [
    "195 * 20/100"
   ]
  },
  {
   "cell_type": "code",
   "execution_count": 14,
   "metadata": {},
   "outputs": [
    {
     "data": {
      "text/plain": [
       "156"
      ]
     },
     "execution_count": 14,
     "metadata": {},
     "output_type": "execute_result"
    }
   ],
   "source": [
    "195 - 39"
   ]
  },
  {
   "cell_type": "code",
   "execution_count": 15,
   "metadata": {},
   "outputs": [
    {
     "data": {
      "text/plain": [
       "156"
      ]
     },
     "execution_count": 15,
     "metadata": {},
     "output_type": "execute_result"
    }
   ],
   "source": [
    "144 + 12"
   ]
  },
  {
   "cell_type": "code",
   "execution_count": null,
   "metadata": {},
   "outputs": [],
   "source": []
  },
  {
   "cell_type": "code",
   "execution_count": null,
   "metadata": {},
   "outputs": [],
   "source": []
  },
  {
   "cell_type": "code",
   "execution_count": null,
   "metadata": {},
   "outputs": [],
   "source": []
  },
  {
   "cell_type": "code",
   "execution_count": null,
   "metadata": {},
   "outputs": [],
   "source": []
  }
 ],
 "metadata": {
  "kernelspec": {
   "display_name": "base",
   "language": "python",
   "name": "python3"
  },
  "language_info": {
   "codemirror_mode": {
    "name": "ipython",
    "version": 3
   },
   "file_extension": ".py",
   "mimetype": "text/x-python",
   "name": "python",
   "nbconvert_exporter": "python",
   "pygments_lexer": "ipython3",
   "version": "3.12.2"
  }
 },
 "nbformat": 4,
 "nbformat_minor": 2
}
