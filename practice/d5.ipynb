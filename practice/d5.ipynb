{
 "cells": [
  {
   "cell_type": "code",
   "execution_count": null,
   "metadata": {},
   "outputs": [],
   "source": [
    "k = 0\n",
    "lst = []\n",
    "for j in range(5):\n",
    "    lst.append(j)\n",
    "    print('One',j)\n",
    "    k += j\n",
    "    print('---------')\n",
    "    print('Two',k)\n",
    "print('------')\n",
    "print('sum = ', k)"
   ]
  },
  {
   "cell_type": "code",
   "execution_count": 1,
   "metadata": {},
   "outputs": [
    {
     "name": "stdout",
     "output_type": "stream",
     "text": [
      "\n",
      "--- Kinetic Energy Calculation ---\n",
      "Formula: KE = 1/2 × mass × velocity²\n",
      "\n",
      "Given:\n",
      "Mass = 12.0\n",
      "Velocity = 12.0\n",
      "\n",
      "Calculation Steps:\n",
      "Step 1: Square the velocity\n",
      "        12.0² = 144.0\n",
      "\n",
      "Step 2: Multiply 1/2 by mass\n",
      "        1/2 × 12.0 = 6.0\n",
      "\n",
      "Step 3: Multiply the results\n",
      "        6.0 × 144.0 = 864.0\n",
      "\n",
      "Final Answer:\n",
      "Kinetic Energy = 864.0\n"
     ]
    }
   ],
   "source": [
    "\n",
    "mass = float(input(\"Enter mass: \"))\n",
    "velocity = float(input(\"Enter velocity: \"))\n",
    "\n",
    "# Step 1: Show the formula\n",
    "print(\"\\n--- Kinetic Energy Calculation ---\")\n",
    "print(\"Formula: KE = 1/2 × mass × velocity²\")\n",
    "\n",
    "# Step 2: Show the values\n",
    "print(f\"\\nGiven:\")\n",
    "print(f\"Mass = {mass}\")\n",
    "print(f\"Velocity = {velocity}\")\n",
    "\n",
    "# Step 3: Calculate step by step\n",
    "print(\"\\nCalculation Steps:\")\n",
    "print(f\"Step 1: Square the velocity\")\n",
    "velocity_squared = velocity ** 2\n",
    "print(f\"        {velocity}² = {velocity_squared}\")\n",
    "\n",
    "print(\"\\nStep 2: Multiply 1/2 by mass\")\n",
    "half_mass = 0.5 * mass\n",
    "print(f\"        1/2 × {mass} = {half_mass}\")\n",
    "\n",
    "print(\"\\nStep 3: Multiply the results\")\n",
    "kinetic_energy = 0.5 * mass * (velocity ** 2)\n",
    "print(f\"        {half_mass} × {velocity_squared} = {kinetic_energy}\")\n",
    "\n",
    "# Final result\n",
    "print(\"\\nFinal Answer:\")\n",
    "print(f\"Kinetic Energy = {kinetic_energy}\")\n"
   ]
  },
  {
   "cell_type": "code",
   "execution_count": 7,
   "metadata": {},
   "outputs": [
    {
     "name": "stdout",
     "output_type": "stream",
     "text": [
      "Hello, Nadir Ali Khan! Welcome to the program.\n"
     ]
    }
   ],
   "source": [
    "name = input('Enter your name please: ')\n",
    "\n",
    "if name == '':\n",
    "    print('You did not enter your name.')\n",
    "else:\n",
    "    print(f'Hello, {name}! Welcome to the program.')"
   ]
  },
  {
   "cell_type": "code",
   "execution_count": 9,
   "metadata": {},
   "outputs": [
    {
     "name": "stdout",
     "output_type": "stream",
     "text": [
      "You are not welcome.\n"
     ]
    }
   ],
   "source": [
    "if name == 'nadir':\n",
    "    print('You are welcome!')\n",
    "else:\n",
    "    print('You are not welcome.')"
   ]
  },
  {
   "cell_type": "code",
   "execution_count": 15,
   "metadata": {},
   "outputs": [
    {
     "name": "stdout",
     "output_type": "stream",
     "text": [
      "Hello hahsd\n"
     ]
    }
   ],
   "source": [
    "from main import main\n",
    "\n",
    "main()"
   ]
  },
  {
   "cell_type": "code",
   "execution_count": null,
   "metadata": {},
   "outputs": [],
   "source": []
  },
  {
   "cell_type": "code",
   "execution_count": null,
   "metadata": {},
   "outputs": [],
   "source": []
  },
  {
   "cell_type": "code",
   "execution_count": null,
   "metadata": {},
   "outputs": [],
   "source": []
  },
  {
   "cell_type": "code",
   "execution_count": null,
   "metadata": {},
   "outputs": [],
   "source": []
  }
 ],
 "metadata": {
  "kernelspec": {
   "display_name": "base",
   "language": "python",
   "name": "python3"
  },
  "language_info": {
   "codemirror_mode": {
    "name": "ipython",
    "version": 3
   },
   "file_extension": ".py",
   "mimetype": "text/x-python",
   "name": "python",
   "nbconvert_exporter": "python",
   "pygments_lexer": "ipython3",
   "version": "3.12.2"
  }
 },
 "nbformat": 4,
 "nbformat_minor": 2
}
