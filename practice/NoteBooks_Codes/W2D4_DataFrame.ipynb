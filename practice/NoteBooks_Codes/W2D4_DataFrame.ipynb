{
 "cells": [
  {
   "cell_type": "code",
   "execution_count": 2,
   "metadata": {
    "id": "KhRgnOFSpWnC"
   },
   "outputs": [],
   "source": [
    "#Creating Dictionary\n",
    "dictionary={\n",
    "    'Name': ['Ahsan', 'rehman', 'Ali'],\n",
    "    'Age': [20,25,30],\n",
    "    'City': ['Sukkur', 'Karachi', 'Hydrabad']\n",
    "}"
   ]
  },
  {
   "cell_type": "code",
   "execution_count": null,
   "metadata": {
    "id": "FtEafxBw1QDu"
   },
   "outputs": [],
   "source": []
  },
  {
   "cell_type": "code",
   "execution_count": 3,
   "metadata": {
    "colab": {
     "base_uri": "https://localhost:8080/",
     "height": 143
    },
    "id": "W0dACdLlsGul",
    "outputId": "dc7dde4f-3863-4d1b-c2e0-b5991fd69f87"
   },
   "outputs": [
    {
     "data": {
      "text/html": [
       "<div>\n",
       "<style scoped>\n",
       "    .dataframe tbody tr th:only-of-type {\n",
       "        vertical-align: middle;\n",
       "    }\n",
       "\n",
       "    .dataframe tbody tr th {\n",
       "        vertical-align: top;\n",
       "    }\n",
       "\n",
       "    .dataframe thead th {\n",
       "        text-align: right;\n",
       "    }\n",
       "</style>\n",
       "<table border=\"1\" class=\"dataframe\">\n",
       "  <thead>\n",
       "    <tr style=\"text-align: right;\">\n",
       "      <th></th>\n",
       "      <th>Name</th>\n",
       "      <th>Age</th>\n",
       "      <th>City</th>\n",
       "    </tr>\n",
       "  </thead>\n",
       "  <tbody>\n",
       "    <tr>\n",
       "      <th>0</th>\n",
       "      <td>Ahsan</td>\n",
       "      <td>20</td>\n",
       "      <td>Sukkur</td>\n",
       "    </tr>\n",
       "    <tr>\n",
       "      <th>1</th>\n",
       "      <td>rehman</td>\n",
       "      <td>25</td>\n",
       "      <td>Karachi</td>\n",
       "    </tr>\n",
       "    <tr>\n",
       "      <th>2</th>\n",
       "      <td>Ali</td>\n",
       "      <td>30</td>\n",
       "      <td>Hydrabad</td>\n",
       "    </tr>\n",
       "  </tbody>\n",
       "</table>\n",
       "</div>"
      ],
      "text/plain": [
       "     Name  Age      City\n",
       "0   Ahsan   20    Sukkur\n",
       "1  rehman   25   Karachi\n",
       "2     Ali   30  Hydrabad"
      ]
     },
     "execution_count": 3,
     "metadata": {},
     "output_type": "execute_result"
    }
   ],
   "source": [
    "import pandas as pd\n",
    "data_frame= pd.DataFrame(dictionary)\n",
    "data_frame"
   ]
  },
  {
   "cell_type": "code",
   "execution_count": 4,
   "metadata": {
    "colab": {
     "base_uri": "https://localhost:8080/"
    },
    "id": "DdIIGBOssa1V",
    "outputId": "86448b90-2514-4809-99e7-9181132b51a9"
   },
   "outputs": [
    {
     "name": "stdout",
     "output_type": "stream",
     "text": [
      "     Name  Age      City\n",
      "1  rehman   25   Karachi\n",
      "2     Ali   30  Hydrabad\n"
     ]
    }
   ],
   "source": [
    "#Indexing and Sliecing\n",
    "filter = data_frame[data_frame['Age']> 20]\n",
    "print(filter)"
   ]
  },
  {
   "cell_type": "markdown",
   "metadata": {
    "id": "3Zz_5HuZBDZZ"
   },
   "source": []
  },
  {
   "cell_type": "code",
   "execution_count": 5,
   "metadata": {
    "colab": {
     "base_uri": "https://localhost:8080/"
    },
    "id": "T22EF1wAtG12",
    "outputId": "1e24c35c-93a4-4e79-ab6a-6424f792ed2f"
   },
   "outputs": [
    {
     "name": "stdout",
     "output_type": "stream",
     "text": [
      "Empty DataFrame\n",
      "Columns: [Name, Age, City]\n",
      "Index: []\n"
     ]
    }
   ],
   "source": [
    "#Filtering based on Age and City\n",
    "filter = data_frame[(data_frame['Age']> 20) & ( data_frame['City']=='Sukkur')][['Name', 'Age', 'City']]\n",
    "print(filter)"
   ]
  },
  {
   "cell_type": "code",
   "execution_count": 6,
   "metadata": {
    "colab": {
     "base_uri": "https://localhost:8080/",
     "height": 174
    },
    "id": "QFXZcHjytpKi",
    "outputId": "5904a39c-d7c0-4605-a87f-794932e3ae33"
   },
   "outputs": [
    {
     "data": {
      "text/html": [
       "<div>\n",
       "<style scoped>\n",
       "    .dataframe tbody tr th:only-of-type {\n",
       "        vertical-align: middle;\n",
       "    }\n",
       "\n",
       "    .dataframe tbody tr th {\n",
       "        vertical-align: top;\n",
       "    }\n",
       "\n",
       "    .dataframe thead th {\n",
       "        text-align: right;\n",
       "    }\n",
       "</style>\n",
       "<table border=\"1\" class=\"dataframe\">\n",
       "  <thead>\n",
       "    <tr style=\"text-align: right;\">\n",
       "      <th></th>\n",
       "      <th>Name</th>\n",
       "      <th>Age</th>\n",
       "      <th>City</th>\n",
       "    </tr>\n",
       "  </thead>\n",
       "  <tbody>\n",
       "    <tr>\n",
       "      <th>0</th>\n",
       "      <td>Ahsan</td>\n",
       "      <td>20.0</td>\n",
       "      <td>Sukkur</td>\n",
       "    </tr>\n",
       "    <tr>\n",
       "      <th>1</th>\n",
       "      <td>rehman</td>\n",
       "      <td>NaN</td>\n",
       "      <td>Karachi</td>\n",
       "    </tr>\n",
       "    <tr>\n",
       "      <th>2</th>\n",
       "      <td>None</td>\n",
       "      <td>30.0</td>\n",
       "      <td>Hydrabad</td>\n",
       "    </tr>\n",
       "    <tr>\n",
       "      <th>3</th>\n",
       "      <td>None</td>\n",
       "      <td>NaN</td>\n",
       "      <td>Sukkur</td>\n",
       "    </tr>\n",
       "  </tbody>\n",
       "</table>\n",
       "</div>"
      ],
      "text/plain": [
       "     Name   Age      City\n",
       "0   Ahsan  20.0    Sukkur\n",
       "1  rehman   NaN   Karachi\n",
       "2    None  30.0  Hydrabad\n",
       "3    None   NaN    Sukkur"
      ]
     },
     "execution_count": 6,
     "metadata": {},
     "output_type": "execute_result"
    }
   ],
   "source": [
    "dictionary={\n",
    "    'Name': ['Ahsan', 'rehman', None, None],\n",
    "    'Age': [20,None,30, None],\n",
    "    'City': ['Sukkur', 'Karachi', 'Hydrabad', \"Sukkur\"]\n",
    "}\n",
    "import pandas as pd\n",
    "data_frame= pd.DataFrame(dictionary)\n",
    "data_frame"
   ]
  },
  {
   "cell_type": "code",
   "execution_count": null,
   "metadata": {
    "id": "lTDvicxFvj10"
   },
   "outputs": [],
   "source": []
  },
  {
   "cell_type": "code",
   "execution_count": 7,
   "metadata": {
    "colab": {
     "base_uri": "https://localhost:8080/",
     "height": 437
    },
    "id": "wVnXe01AucrX",
    "outputId": "e386be94-86fc-4076-e65e-2be3ab72c2d8"
   },
   "outputs": [
    {
     "name": "stderr",
     "output_type": "stream",
     "text": [
      "/tmp/ipykernel_20261/829481497.py:2: FutureWarning: A value is trying to be set on a copy of a DataFrame or Series through chained assignment using an inplace method.\n",
      "The behavior will change in pandas 3.0. This inplace method will never work because the intermediate object on which we are setting values always behaves as a copy.\n",
      "\n",
      "For example, when doing 'df[col].method(value, inplace=True)', try using 'df.method({col: value}, inplace=True)' or df[col] = df[col].method(value) instead, to perform the operation inplace on the original object.\n",
      "\n",
      "\n",
      "  data_frame['Name'].fillna('Unkown', inplace=True)\n",
      "/tmp/ipykernel_20261/829481497.py:3: FutureWarning: A value is trying to be set on a copy of a DataFrame or Series through chained assignment using an inplace method.\n",
      "The behavior will change in pandas 3.0. This inplace method will never work because the intermediate object on which we are setting values always behaves as a copy.\n",
      "\n",
      "For example, when doing 'df[col].method(value, inplace=True)', try using 'df.method({col: value}, inplace=True)' or df[col] = df[col].method(value) instead, to perform the operation inplace on the original object.\n",
      "\n",
      "\n",
      "  data_frame['Age'].fillna(data_frame['Age'].mean(), inplace=True)\n"
     ]
    },
    {
     "data": {
      "text/html": [
       "<div>\n",
       "<style scoped>\n",
       "    .dataframe tbody tr th:only-of-type {\n",
       "        vertical-align: middle;\n",
       "    }\n",
       "\n",
       "    .dataframe tbody tr th {\n",
       "        vertical-align: top;\n",
       "    }\n",
       "\n",
       "    .dataframe thead th {\n",
       "        text-align: right;\n",
       "    }\n",
       "</style>\n",
       "<table border=\"1\" class=\"dataframe\">\n",
       "  <thead>\n",
       "    <tr style=\"text-align: right;\">\n",
       "      <th></th>\n",
       "      <th>Name</th>\n",
       "      <th>Age</th>\n",
       "      <th>City</th>\n",
       "    </tr>\n",
       "  </thead>\n",
       "  <tbody>\n",
       "    <tr>\n",
       "      <th>0</th>\n",
       "      <td>Ahsan</td>\n",
       "      <td>20.0</td>\n",
       "      <td>Sukkur</td>\n",
       "    </tr>\n",
       "    <tr>\n",
       "      <th>1</th>\n",
       "      <td>rehman</td>\n",
       "      <td>25.0</td>\n",
       "      <td>Karachi</td>\n",
       "    </tr>\n",
       "    <tr>\n",
       "      <th>2</th>\n",
       "      <td>Unkown</td>\n",
       "      <td>30.0</td>\n",
       "      <td>Hydrabad</td>\n",
       "    </tr>\n",
       "    <tr>\n",
       "      <th>3</th>\n",
       "      <td>Unkown</td>\n",
       "      <td>25.0</td>\n",
       "      <td>Sukkur</td>\n",
       "    </tr>\n",
       "  </tbody>\n",
       "</table>\n",
       "</div>"
      ],
      "text/plain": [
       "     Name   Age      City\n",
       "0   Ahsan  20.0    Sukkur\n",
       "1  rehman  25.0   Karachi\n",
       "2  Unkown  30.0  Hydrabad\n",
       "3  Unkown  25.0    Sukkur"
      ]
     },
     "execution_count": 7,
     "metadata": {},
     "output_type": "execute_result"
    }
   ],
   "source": [
    "#Filling NA values\n",
    "data_frame['Name'].fillna('Unkown', inplace=True)\n",
    "data_frame['Age'].fillna(data_frame['Age'].mean(), inplace=True)\n",
    "data_frame"
   ]
  },
  {
   "cell_type": "code",
   "execution_count": 8,
   "metadata": {
    "colab": {
     "base_uri": "https://localhost:8080/"
    },
    "id": "JZChFow8vbcl",
    "outputId": "1a97e1b6-af50-47b3-ea01-80c08391be7a"
   },
   "outputs": [
    {
     "name": "stdout",
     "output_type": "stream",
     "text": [
      "     Name   Age      City\n",
      "0   Ahsan  20.0    Sukkur\n",
      "1  rehman  25.0   Karachi\n",
      "2  Unkown  25.0    Sukkur\n",
      "3  Unkown  30.0  Hydrabad\n"
     ]
    }
   ],
   "source": [
    "#Sorting the value using Age Column\n",
    "sorted_table = data_frame.sort_values(by ='Age', ignore_index=True)\n",
    "print(sorted_table)"
   ]
  },
  {
   "cell_type": "code",
   "execution_count": 9,
   "metadata": {
    "colab": {
     "base_uri": "https://localhost:8080/"
    },
    "id": "XUHu5F2V90oF",
    "outputId": "cc38b686-80c5-4e3d-9f76-b1b46309fab0"
   },
   "outputs": [
    {
     "name": "stdout",
     "output_type": "stream",
     "text": [
      "     Name   Age\n",
      "0   Ahsan  20.0\n",
      "3  Unkown  25.0\n"
     ]
    }
   ],
   "source": [
    "#Filtering using City\n",
    "filter_by_city=data_frame[data_frame['City']=='Sukkur'][['Name','Age']]\n",
    "print(filter_by_city)"
   ]
  },
  {
   "cell_type": "code",
   "execution_count": 10,
   "metadata": {
    "colab": {
     "base_uri": "https://localhost:8080/",
     "height": 174
    },
    "id": "hD_4XT4RAW02",
    "outputId": "ab7a38ba-5ae0-4ca5-ae05-2baee6700a69"
   },
   "outputs": [
    {
     "data": {
      "text/html": [
       "<div>\n",
       "<style scoped>\n",
       "    .dataframe tbody tr th:only-of-type {\n",
       "        vertical-align: middle;\n",
       "    }\n",
       "\n",
       "    .dataframe tbody tr th {\n",
       "        vertical-align: top;\n",
       "    }\n",
       "\n",
       "    .dataframe thead th {\n",
       "        text-align: right;\n",
       "    }\n",
       "</style>\n",
       "<table border=\"1\" class=\"dataframe\">\n",
       "  <thead>\n",
       "    <tr style=\"text-align: right;\">\n",
       "      <th></th>\n",
       "      <th>Name</th>\n",
       "      <th>Age</th>\n",
       "      <th>City</th>\n",
       "    </tr>\n",
       "  </thead>\n",
       "  <tbody>\n",
       "    <tr>\n",
       "      <th>0</th>\n",
       "      <td>Ahsan</td>\n",
       "      <td>20.0</td>\n",
       "      <td>Sukkur</td>\n",
       "    </tr>\n",
       "    <tr>\n",
       "      <th>1</th>\n",
       "      <td>rehman</td>\n",
       "      <td>NaN</td>\n",
       "      <td>Karachi</td>\n",
       "    </tr>\n",
       "    <tr>\n",
       "      <th>2</th>\n",
       "      <td>None</td>\n",
       "      <td>30.0</td>\n",
       "      <td>Hydrabad</td>\n",
       "    </tr>\n",
       "    <tr>\n",
       "      <th>3</th>\n",
       "      <td>None</td>\n",
       "      <td>NaN</td>\n",
       "      <td>Sukkur</td>\n",
       "    </tr>\n",
       "  </tbody>\n",
       "</table>\n",
       "</div>"
      ],
      "text/plain": [
       "     Name   Age      City\n",
       "0   Ahsan  20.0    Sukkur\n",
       "1  rehman   NaN   Karachi\n",
       "2    None  30.0  Hydrabad\n",
       "3    None   NaN    Sukkur"
      ]
     },
     "execution_count": 10,
     "metadata": {},
     "output_type": "execute_result"
    }
   ],
   "source": [
    "dictionary={\n",
    "    'Name': ['Ahsan', 'rehman', None, None],\n",
    "    'Age': [20,None,30, None],\n",
    "    'City': ['Sukkur', 'Karachi', 'Hydrabad', \"Sukkur\"]\n",
    "}\n",
    "import pandas as pd\n",
    "data_frame= pd.DataFrame(dictionary)\n",
    "data_frame"
   ]
  },
  {
   "cell_type": "code",
   "execution_count": 11,
   "metadata": {
    "colab": {
     "base_uri": "https://localhost:8080/"
    },
    "id": "D_OEHkU-COkP",
    "outputId": "4c9e02a9-ae0e-4939-d535-54b96f02c2a1"
   },
   "outputs": [
    {
     "name": "stdout",
     "output_type": "stream",
     "text": [
      "     Name   Age      City\n",
      "0   Ahsan  20.0    Sukkur\n",
      "1  rehman   NaN   Karachi\n",
      "2     NaN  30.0  Hydrabad\n",
      "3     NaN   NaN    Sukkur\n"
     ]
    }
   ],
   "source": [
    "#Creating and reading CSV file\n",
    "data_frame.to_csv('data_frame.csv', index=False)\n",
    "data_frame_read =pd.read_csv('data_frame.csv')\n",
    "print(data_frame_read)"
   ]
  },
  {
   "cell_type": "code",
   "execution_count": 12,
   "metadata": {
    "colab": {
     "base_uri": "https://localhost:8080/",
     "height": 268
    },
    "id": "9ktrwM1aCyhy",
    "outputId": "0d42cbb0-99d2-4165-e8b3-020d96e23885"
   },
   "outputs": [
    {
     "data": {
      "text/html": [
       "<div>\n",
       "<style scoped>\n",
       "    .dataframe tbody tr th:only-of-type {\n",
       "        vertical-align: middle;\n",
       "    }\n",
       "\n",
       "    .dataframe tbody tr th {\n",
       "        vertical-align: top;\n",
       "    }\n",
       "\n",
       "    .dataframe thead th {\n",
       "        text-align: right;\n",
       "    }\n",
       "</style>\n",
       "<table border=\"1\" class=\"dataframe\">\n",
       "  <thead>\n",
       "    <tr style=\"text-align: right;\">\n",
       "      <th></th>\n",
       "      <th>Name</th>\n",
       "      <th>Age</th>\n",
       "      <th>City</th>\n",
       "    </tr>\n",
       "  </thead>\n",
       "  <tbody>\n",
       "    <tr>\n",
       "      <th>0</th>\n",
       "      <td>Ahsan</td>\n",
       "      <td>20.0</td>\n",
       "      <td>Sukkur</td>\n",
       "    </tr>\n",
       "    <tr>\n",
       "      <th>1</th>\n",
       "      <td>rehman</td>\n",
       "      <td>NaN</td>\n",
       "      <td>Karachi</td>\n",
       "    </tr>\n",
       "    <tr>\n",
       "      <th>2</th>\n",
       "      <td>None</td>\n",
       "      <td>30.0</td>\n",
       "      <td>Hydrabad</td>\n",
       "    </tr>\n",
       "    <tr>\n",
       "      <th>3</th>\n",
       "      <td>None</td>\n",
       "      <td>NaN</td>\n",
       "      <td>Sukkur</td>\n",
       "    </tr>\n",
       "    <tr>\n",
       "      <th>4</th>\n",
       "      <td>Ali</td>\n",
       "      <td>20.0</td>\n",
       "      <td>Pano Aqil</td>\n",
       "    </tr>\n",
       "    <tr>\n",
       "      <th>5</th>\n",
       "      <td>rehan</td>\n",
       "      <td>10.0</td>\n",
       "      <td>Rorhi</td>\n",
       "    </tr>\n",
       "    <tr>\n",
       "      <th>6</th>\n",
       "      <td>hyder</td>\n",
       "      <td>50.0</td>\n",
       "      <td>Sukkur</td>\n",
       "    </tr>\n",
       "  </tbody>\n",
       "</table>\n",
       "</div>"
      ],
      "text/plain": [
       "     Name   Age       City\n",
       "0   Ahsan  20.0     Sukkur\n",
       "1  rehman   NaN    Karachi\n",
       "2    None  30.0   Hydrabad\n",
       "3    None   NaN     Sukkur\n",
       "4     Ali  20.0  Pano Aqil\n",
       "5   rehan  10.0      Rorhi\n",
       "6   hyder  50.0     Sukkur"
      ]
     },
     "execution_count": 12,
     "metadata": {},
     "output_type": "execute_result"
    }
   ],
   "source": [
    "dictionary={\n",
    "    'Name': ['Ahsan', 'rehman', None, None, 'Ali','rehan','hyder'],\n",
    "    'Age': [20,None,30, None,20,10,50],\n",
    "    'City': ['Sukkur', 'Karachi', 'Hydrabad', \"Sukkur\",'Pano Aqil', 'Rorhi','Sukkur']\n",
    "}\n",
    "import pandas as pd\n",
    "data_frame= pd.DataFrame(dictionary)\n",
    "data_frame"
   ]
  },
  {
   "cell_type": "code",
   "execution_count": 13,
   "metadata": {
    "colab": {
     "base_uri": "https://localhost:8080/"
    },
    "id": "A23ulFkXFIEH",
    "outputId": "74b4e636-2483-473c-d70f-e42c90f2ca45"
   },
   "outputs": [
    {
     "name": "stdout",
     "output_type": "stream",
     "text": [
      "Name     Ahsan\n",
      "Age       20.0\n",
      "City    Sukkur\n",
      "Name: 0, dtype: object\n"
     ]
    }
   ],
   "source": [
    "#Feching the data using rows\n",
    "print(data_frame.iloc[0])"
   ]
  },
  {
   "cell_type": "code",
   "execution_count": 14,
   "metadata": {
    "colab": {
     "base_uri": "https://localhost:8080/"
    },
    "id": "NLeVj4KQGG76",
    "outputId": "555e66f9-f27d-4247-a646-7f472be35825"
   },
   "outputs": [
    {
     "name": "stdout",
     "output_type": "stream",
     "text": [
      "     Name   Age      City\n",
      "0   Ahsan  20.0    Sukkur\n",
      "1  rehman   NaN   Karachi\n",
      "2    None  30.0  Hydrabad\n",
      "3    None   NaN    Sukkur\n"
     ]
    }
   ],
   "source": [
    "print(data_frame.iloc[:4,:3])"
   ]
  },
  {
   "cell_type": "code",
   "execution_count": 15,
   "metadata": {
    "colab": {
     "base_uri": "https://localhost:8080/"
    },
    "id": "Gj-zwBe2Gby8",
    "outputId": "9898070e-851f-4dde-9327-4cc148a2410a"
   },
   "outputs": [
    {
     "name": "stdout",
     "output_type": "stream",
     "text": [
      "     Name      City\n",
      "0   Ahsan    Sukkur\n",
      "1  rehman   Karachi\n",
      "2    None  Hydrabad\n"
     ]
    }
   ],
   "source": [
    "#coloumm vise data\n",
    "\n",
    "print(data_frame.loc[:2,['Name','City']])"
   ]
  },
  {
   "cell_type": "code",
   "execution_count": 16,
   "metadata": {
    "colab": {
     "base_uri": "https://localhost:8080/",
     "height": 174
    },
    "id": "Idn0aT_iJol_",
    "outputId": "af4b275e-e0e0-4129-9e83-1135a344ac0b"
   },
   "outputs": [
    {
     "data": {
      "text/html": [
       "<div>\n",
       "<style scoped>\n",
       "    .dataframe tbody tr th:only-of-type {\n",
       "        vertical-align: middle;\n",
       "    }\n",
       "\n",
       "    .dataframe tbody tr th {\n",
       "        vertical-align: top;\n",
       "    }\n",
       "\n",
       "    .dataframe thead th {\n",
       "        text-align: right;\n",
       "    }\n",
       "</style>\n",
       "<table border=\"1\" class=\"dataframe\">\n",
       "  <thead>\n",
       "    <tr style=\"text-align: right;\">\n",
       "      <th></th>\n",
       "      <th>ID</th>\n",
       "      <th>Score</th>\n",
       "    </tr>\n",
       "  </thead>\n",
       "  <tbody>\n",
       "    <tr>\n",
       "      <th>0</th>\n",
       "      <td>1</td>\n",
       "      <td>40</td>\n",
       "    </tr>\n",
       "    <tr>\n",
       "      <th>1</th>\n",
       "      <td>2</td>\n",
       "      <td>50</td>\n",
       "    </tr>\n",
       "    <tr>\n",
       "      <th>2</th>\n",
       "      <td>3</td>\n",
       "      <td>70</td>\n",
       "    </tr>\n",
       "    <tr>\n",
       "      <th>3</th>\n",
       "      <td>5</td>\n",
       "      <td>80</td>\n",
       "    </tr>\n",
       "  </tbody>\n",
       "</table>\n",
       "</div>"
      ],
      "text/plain": [
       "   ID  Score\n",
       "0   1     40\n",
       "1   2     50\n",
       "2   3     70\n",
       "3   5     80"
      ]
     },
     "execution_count": 16,
     "metadata": {},
     "output_type": "execute_result"
    }
   ],
   "source": [
    "#Merging the DataFrames\n",
    "import pandas as pd\n",
    "dic1={\n",
    "    'ID': [1,2,3,4],\n",
    "    'Name': ['Ahsan', 'rehman', 'Ali', 'bilal']\n",
    "}\n",
    "\n",
    "df1= pd.DataFrame(dic1)\n",
    "df1\n",
    "dic2={\n",
    "    'ID': [1,2,3,5],\n",
    "    'Score': [40,50,70,80]\n",
    "}\n",
    "\n",
    "df2= pd.DataFrame(dic2)\n",
    "df2"
   ]
  },
  {
   "cell_type": "code",
   "execution_count": 18,
   "metadata": {
    "colab": {
     "base_uri": "https://localhost:8080/"
    },
    "id": "2YRHVKLBNuRk",
    "outputId": "6acecd62-13c0-42ce-8bdf-36b3229213d2"
   },
   "outputs": [
    {
     "name": "stdout",
     "output_type": "stream",
     "text": [
      "   ID    Name  Score\n",
      "0   1   Ahsan     40\n",
      "1   2  rehman     50\n",
      "2   3     Ali     70\n"
     ]
    }
   ],
   "source": [
    "merge_data_frame=pd.merge(df1,df2, on='ID')\n",
    "print(merge_data_frame)"
   ]
  },
  {
   "cell_type": "code",
   "execution_count": null,
   "metadata": {
    "id": "YR-FPNLFOA8E"
   },
   "outputs": [],
   "source": []
  }
 ],
 "metadata": {
  "colab": {
   "provenance": []
  },
  "kernelspec": {
   "display_name": "base",
   "language": "python",
   "name": "python3"
  },
  "language_info": {
   "codemirror_mode": {
    "name": "ipython",
    "version": 3
   },
   "file_extension": ".py",
   "mimetype": "text/x-python",
   "name": "python",
   "nbconvert_exporter": "python",
   "pygments_lexer": "ipython3",
   "version": "3.12.2"
  }
 },
 "nbformat": 4,
 "nbformat_minor": 0
}
