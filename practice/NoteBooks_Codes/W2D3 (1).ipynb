{
 "cells": [
  {
   "cell_type": "code",
   "execution_count": 1,
   "metadata": {
    "colab": {
     "base_uri": "https://localhost:8080/"
    },
    "executionInfo": {
     "elapsed": 368,
     "status": "ok",
     "timestamp": 1732709663966,
     "user": {
      "displayName": "Hasnain Hyder",
      "userId": "03785300315798741956"
     },
     "user_tz": -300
    },
    "id": "nUWp8V5IiFar",
    "outputId": "0849a989-7598-4d3d-aa7a-2cb418a3947b"
   },
   "outputs": [
    {
     "name": "stdout",
     "output_type": "stream",
     "text": [
      "{'Name': 'Ahmed', 'Age': 18, 'City': 'Sukkur'}\n"
     ]
    }
   ],
   "source": [
    "# Creating Dictionary\n",
    "dictionary = {\n",
    "    'Name' : 'Ahmed',\n",
    "    'Age' : 18,\n",
    "    'City' : 'Sukkur'\n",
    "}\n",
    "print(dictionary)"
   ]
  },
  {
   "cell_type": "code",
   "execution_count": 2,
   "metadata": {
    "colab": {
     "base_uri": "https://localhost:8080/"
    },
    "executionInfo": {
     "elapsed": 320,
     "status": "ok",
     "timestamp": 1732709831356,
     "user": {
      "displayName": "Hasnain Hyder",
      "userId": "03785300315798741956"
     },
     "user_tz": -300
    },
    "id": "rqdU6uLaixvT",
    "outputId": "f0f32fe7-0374-4bf2-91ec-f8c010e313e1"
   },
   "outputs": [
    {
     "name": "stdout",
     "output_type": "stream",
     "text": [
      "{'Name': 'Ahmed', 'Age': 18, 'City': 'Sukkur', 'Qualification': 'Masters'}\n"
     ]
    }
   ],
   "source": [
    "dictionary['Qualification']= 'Masters'\n",
    "print(dictionary)"
   ]
  },
  {
   "cell_type": "code",
   "execution_count": 3,
   "metadata": {
    "colab": {
     "base_uri": "https://localhost:8080/"
    },
    "executionInfo": {
     "elapsed": 312,
     "status": "ok",
     "timestamp": 1732710048581,
     "user": {
      "displayName": "Hasnain Hyder",
      "userId": "03785300315798741956"
     },
     "user_tz": -300
    },
    "id": "AaRtLSmrjbeT",
    "outputId": "45d77d4a-883e-4ce2-b1cf-1f41a21ee723"
   },
   "outputs": [
    {
     "name": "stdout",
     "output_type": "stream",
     "text": [
      "{'Name': 'Ahmed', 'Age': 18, 'City': 'Sukkur'}\n"
     ]
    }
   ],
   "source": [
    "#Deleting Column\n",
    "del dictionary['Qualification']\n",
    "print(dictionary)"
   ]
  },
  {
   "cell_type": "code",
   "execution_count": 4,
   "metadata": {
    "colab": {
     "base_uri": "https://localhost:8080/"
    },
    "executionInfo": {
     "elapsed": 316,
     "status": "ok",
     "timestamp": 1732710212288,
     "user": {
      "displayName": "Hasnain Hyder",
      "userId": "03785300315798741956"
     },
     "user_tz": -300
    },
    "id": "lTln_HQekR_9",
    "outputId": "cba77ab6-fac8-4e62-fa9e-3362bf954685"
   },
   "outputs": [
    {
     "name": "stdout",
     "output_type": "stream",
     "text": [
      "Ahmed\n"
     ]
    }
   ],
   "source": [
    "print(dictionary['Name'])"
   ]
  },
  {
   "cell_type": "code",
   "execution_count": 5,
   "metadata": {
    "colab": {
     "base_uri": "https://localhost:8080/"
    },
    "executionInfo": {
     "elapsed": 311,
     "status": "ok",
     "timestamp": 1732710485999,
     "user": {
      "displayName": "Hasnain Hyder",
      "userId": "03785300315798741956"
     },
     "user_tz": -300
    },
    "id": "dEVseW9Ok596",
    "outputId": "5b49fd60-c5b0-4d61-9ea8-3e62f569994c"
   },
   "outputs": [
    {
     "name": "stdout",
     "output_type": "stream",
     "text": [
      "{'ahmed': '0307', 'hunanin': '0308', 'rehan': ['03121', '0315-281'], 'ehtisham': '0385'}\n"
     ]
    }
   ],
   "source": [
    "phone = {\n",
    "    'ahmed' : '0307',\n",
    "    'hunanin' : '0308',\n",
    "    'rehan' : ['03121', '0315-281'],\n",
    "    'ehtisham' : '0385',\n",
    "}\n",
    "print(phone)"
   ]
  },
  {
   "cell_type": "code",
   "execution_count": 6,
   "metadata": {
    "colab": {
     "base_uri": "https://localhost:8080/"
    },
    "executionInfo": {
     "elapsed": 340,
     "status": "ok",
     "timestamp": 1732710489198,
     "user": {
      "displayName": "Hasnain Hyder",
      "userId": "03785300315798741956"
     },
     "user_tz": -300
    },
    "id": "3orTEJl9llHb",
    "outputId": "7a67ea42-94ea-4182-ab41-813ee58e13d7"
   },
   "outputs": [
    {
     "name": "stdout",
     "output_type": "stream",
     "text": [
      "['03121', '0315-281']\n"
     ]
    }
   ],
   "source": [
    "print(phone['rehan'])"
   ]
  },
  {
   "cell_type": "code",
   "execution_count": 7,
   "metadata": {
    "colab": {
     "base_uri": "https://localhost:8080/"
    },
    "executionInfo": {
     "elapsed": 314,
     "status": "ok",
     "timestamp": 1732710709642,
     "user": {
      "displayName": "Hasnain Hyder",
      "userId": "03785300315798741956"
     },
     "user_tz": -300
    },
    "id": "kZ7uQwujltzK",
    "outputId": "4c188d22-4be2-45b3-f5a0-73cc47119147"
   },
   "outputs": [
    {
     "name": "stdout",
     "output_type": "stream",
     "text": [
      "{'Name': ['rehan', 'adnan', 'ahsan', 'rubab']}\n"
     ]
    }
   ],
   "source": [
    "new_dictionary ={\n",
    "    'Name' : ['rehan', 'adnan', 'ahsan', 'rubab']\n",
    "}\n",
    "print(new_dictionary)"
   ]
  },
  {
   "cell_type": "code",
   "execution_count": 8,
   "metadata": {
    "colab": {
     "base_uri": "https://localhost:8080/"
    },
    "executionInfo": {
     "elapsed": 322,
     "status": "ok",
     "timestamp": 1732713394532,
     "user": {
      "displayName": "Hasnain Hyder",
      "userId": "03785300315798741956"
     },
     "user_tz": -300
    },
    "id": "MYnAvNgvmzYg",
    "outputId": "f864c1a4-fe73-4925-d6be-f19216732b4c"
   },
   "outputs": [
    {
     "name": "stdout",
     "output_type": "stream",
     "text": [
      "{'Name': 'Ahmed', 'Age': 18, 'City': 'Sukkur'}\n"
     ]
    }
   ],
   "source": [
    "dictionary = {\n",
    "    'Name' : 'Ahmed',\n",
    "    'Age' : 18,\n",
    "    'City' : 'Sukkur'\n",
    "}\n",
    "print(dictionary)"
   ]
  },
  {
   "cell_type": "code",
   "execution_count": 9,
   "metadata": {
    "colab": {
     "base_uri": "https://localhost:8080/"
    },
    "executionInfo": {
     "elapsed": 4,
     "status": "ok",
     "timestamp": 1732713450838,
     "user": {
      "displayName": "Hasnain Hyder",
      "userId": "03785300315798741956"
     },
     "user_tz": -300
    },
    "id": "pXpb7In3xCq6",
    "outputId": "3b379a87-2ff2-49a7-f1b8-6349777e2ef2"
   },
   "outputs": [
    {
     "name": "stdout",
     "output_type": "stream",
     "text": [
      "dict_keys(['Name', 'Age', 'City'])\n",
      "dict_values(['Ahmed', 18, 'Sukkur'])\n"
     ]
    }
   ],
   "source": [
    "print(dictionary.keys())\n",
    "print(dictionary.values())"
   ]
  },
  {
   "cell_type": "code",
   "execution_count": 10,
   "metadata": {
    "colab": {
     "base_uri": "https://localhost:8080/"
    },
    "executionInfo": {
     "elapsed": 325,
     "status": "ok",
     "timestamp": 1732713948153,
     "user": {
      "displayName": "Hasnain Hyder",
      "userId": "03785300315798741956"
     },
     "user_tz": -300
    },
    "id": "ZwMBBTIzxQsZ",
    "outputId": "2463d38a-6e35-43ef-f877-faedddaae645"
   },
   "outputs": [
    {
     "name": "stdout",
     "output_type": "stream",
     "text": [
      "{'Name': ['Ahmed', 'bilal', 'rubab'], 'Age': [15, 18, 20, 500], 'City': 'Sukkur'}\n"
     ]
    }
   ],
   "source": [
    "dictionary = {\n",
    "    'Name' : ['Ahmed','bilal','rubab'],\n",
    "    'Age' : [15,18,20,500],\n",
    "    'City' : 'Sukkur'\n",
    "}\n",
    "print(dictionary)"
   ]
  },
  {
   "cell_type": "code",
   "execution_count": 11,
   "metadata": {
    "colab": {
     "base_uri": "https://localhost:8080/"
    },
    "executionInfo": {
     "elapsed": 323,
     "status": "ok",
     "timestamp": 1732713950134,
     "user": {
      "displayName": "Hasnain Hyder",
      "userId": "03785300315798741956"
     },
     "user_tz": -300
    },
    "id": "Nou2u-MtySLu",
    "outputId": "4ba28162-2621-4986-9793-c6de4bebf3c4"
   },
   "outputs": [
    {
     "name": "stdout",
     "output_type": "stream",
     "text": [
      "500\n"
     ]
    }
   ],
   "source": [
    "#Searching For maximum number from age\n",
    "maximum = max(dictionary['Age'])\n",
    "print(maximum)"
   ]
  },
  {
   "cell_type": "code",
   "execution_count": 12,
   "metadata": {
    "colab": {
     "base_uri": "https://localhost:8080/"
    },
    "executionInfo": {
     "elapsed": 326,
     "status": "ok",
     "timestamp": 1732714671272,
     "user": {
      "displayName": "Hasnain Hyder",
      "userId": "03785300315798741956"
     },
     "user_tz": -300
    },
    "id": "Ma8GlUBlywFg",
    "outputId": "6f07d6ec-d215-4f96-cfb9-e326990378fa"
   },
   "outputs": [
    {
     "name": "stdout",
     "output_type": "stream",
     "text": [
      "{'Name': ['ahmed', 'bilal', 'ahsan'], 'Age': [15, 18, 20], 'City': 'Sukkur'}\n"
     ]
    }
   ],
   "source": [
    "dictionary_1= {\n",
    "    'Name': ['ahmed', 'bilal', 'ahsan'],\n",
    "    'Age': [15, 18, 20],\n",
    "    'City': 'Sukkur'\n",
    "}\n",
    "print(dictionary_1)\n"
   ]
  },
  {
   "cell_type": "code",
   "execution_count": 13,
   "metadata": {
    "colab": {
     "base_uri": "https://localhost:8080/"
    },
    "executionInfo": {
     "elapsed": 331,
     "status": "ok",
     "timestamp": 1732714789749,
     "user": {
      "displayName": "Hasnain Hyder",
      "userId": "03785300315798741956"
     },
     "user_tz": -300
    },
    "id": "4vcmEIN216lJ",
    "outputId": "eab90dbb-7d13-4bf7-a5b3-64564fbf9c43"
   },
   "outputs": [
    {
     "name": "stdout",
     "output_type": "stream",
     "text": [
      "{'Qualification': 'Masters', 'Subject': ['English', 'Math', 'Data Science']}\n"
     ]
    }
   ],
   "source": [
    "dictionary_2 = {\n",
    "    'Qualification' : 'Masters',\n",
    "    'Subject' : ['English', 'Math', 'Data Science']\n",
    "}\n",
    "print(dictionary_2)\n"
   ]
  },
  {
   "cell_type": "code",
   "execution_count": 14,
   "metadata": {
    "colab": {
     "base_uri": "https://localhost:8080/"
    },
    "executionInfo": {
     "elapsed": 318,
     "status": "ok",
     "timestamp": 1732714849496,
     "user": {
      "displayName": "Hasnain Hyder",
      "userId": "03785300315798741956"
     },
     "user_tz": -300
    },
    "id": "gWJ-2yci2XgM",
    "outputId": "cda9b540-a153-4339-9d44-cbba1a90a5de"
   },
   "outputs": [
    {
     "name": "stdout",
     "output_type": "stream",
     "text": [
      "{'Name': ['ahmed', 'bilal', 'ahsan'], 'Age': [15, 18, 20], 'City': 'Sukkur', 'Qualification': 'Masters', 'Subject': ['English', 'Math', 'Data Science']}\n"
     ]
    }
   ],
   "source": [
    "#Combining 2 dictionaries\n",
    "combining_dictionaries = dictionary_1 | dictionary_2\n",
    "print(combining_dictionaries)"
   ]
  },
  {
   "cell_type": "code",
   "execution_count": 15,
   "metadata": {
    "colab": {
     "base_uri": "https://localhost:8080/"
    },
    "executionInfo": {
     "elapsed": 547,
     "status": "ok",
     "timestamp": 1732717322160,
     "user": {
      "displayName": "Hasnain Hyder",
      "userId": "03785300315798741956"
     },
     "user_tz": -300
    },
    "id": "wkRMmqdJ2mFt",
    "outputId": "575c59e4-9a0b-42f6-d656-591558cc53e8"
   },
   "outputs": [
    {
     "name": "stdout",
     "output_type": "stream",
     "text": [
      "{1: 1, 2: 8, 3: 27, 4: 64, 5: 125, 6: 216, 7: 343, 8: 512, 9: 729, 10: 1000, 11: 1331, 12: 1728, 13: 2197, 14: 2744, 15: 3375}\n"
     ]
    }
   ],
   "source": [
    "#Comprehensions\n",
    "square = {x: x**3 for x in range(1,16)}\n",
    "print(square)"
   ]
  },
  {
   "cell_type": "code",
   "execution_count": 16,
   "metadata": {
    "id": "O1PMCKO74200"
   },
   "outputs": [],
   "source": [
    "#Writing and Reading File\n",
    "with open ('example.txt', 'w') as file:\n",
    "  file.write(str(square))\n"
   ]
  },
  {
   "cell_type": "code",
   "execution_count": 17,
   "metadata": {
    "colab": {
     "base_uri": "https://localhost:8080/"
    },
    "executionInfo": {
     "elapsed": 571,
     "status": "ok",
     "timestamp": 1732717360673,
     "user": {
      "displayName": "Hasnain Hyder",
      "userId": "03785300315798741956"
     },
     "user_tz": -300
    },
    "id": "JGCMJ0oQ85WJ",
    "outputId": "d298f7f1-5393-4675-e821-80467707cf63"
   },
   "outputs": [
    {
     "name": "stdout",
     "output_type": "stream",
     "text": [
      "{1: 1, 2: 8, 3: 27, 4: 64, 5: 125, 6: 216, 7: 343, 8: 512, 9: 729, 10: 1000, 11: 1331, 12: 1728, 13: 2197, 14: 2744, 15: 3375}\n"
     ]
    }
   ],
   "source": [
    "with open ('example.txt', 'r') as file:\n",
    "  content= file.read()\n",
    "  print(content)"
   ]
  },
  {
   "cell_type": "code",
   "execution_count": 18,
   "metadata": {
    "colab": {
     "base_uri": "https://localhost:8080/"
    },
    "executionInfo": {
     "elapsed": 8,
     "status": "ok",
     "timestamp": 1732717858602,
     "user": {
      "displayName": "Hasnain Hyder",
      "userId": "03785300315798741956"
     },
     "user_tz": -300
    },
    "id": "QhFNlPry9SPY",
    "outputId": "fb5d554c-1fef-435e-f8e9-c583bf1c985d"
   },
   "outputs": [
    {
     "name": "stdout",
     "output_type": "stream",
     "text": [
      "{'Name': ['ahmed', 'bilal', 'saeed', 'k_ali'], 'Age': [15, 18, 20, 25], 'Marks': [80, 70, 60, 50]}\n"
     ]
    }
   ],
   "source": [
    "import pandas as pd\n",
    "dictionary ={\n",
    "    'Name': ['ahmed', 'bilal', 'saeed', 'k_ali'],\n",
    "    'Age': [15, 18, 20, 25],\n",
    "    'Marks': [80,70,60,50]\n",
    "}\n",
    "print(dictionary)"
   ]
  },
  {
   "cell_type": "code",
   "execution_count": 19,
   "metadata": {
    "colab": {
     "base_uri": "https://localhost:8080/"
    },
    "executionInfo": {
     "elapsed": 326,
     "status": "ok",
     "timestamp": 1732717959387,
     "user": {
      "displayName": "Hasnain Hyder",
      "userId": "03785300315798741956"
     },
     "user_tz": -300
    },
    "id": "OAMwtfYNCEoj",
    "outputId": "554718f5-4059-4cf9-8dd4-800a5f40d857"
   },
   "outputs": [
    {
     "name": "stdout",
     "output_type": "stream",
     "text": [
      "    Name  Age  Marks\n",
      "0  ahmed   15     80\n",
      "1  bilal   18     70\n",
      "2  saeed   20     60\n",
      "3  k_ali   25     50\n"
     ]
    }
   ],
   "source": [
    "df=pd.DataFrame(dictionary)\n",
    "print(df)"
   ]
  },
  {
   "cell_type": "code",
   "execution_count": 20,
   "metadata": {
    "colab": {
     "base_uri": "https://localhost:8080/"
    },
    "executionInfo": {
     "elapsed": 331,
     "status": "ok",
     "timestamp": 1732718453201,
     "user": {
      "displayName": "Hasnain Hyder",
      "userId": "03785300315798741956"
     },
     "user_tz": -300
    },
    "id": "VwuVp7ADCdV0",
    "outputId": "a1f959c1-35d8-4550-9a59-9c80154a9665"
   },
   "outputs": [
    {
     "name": "stdout",
     "output_type": "stream",
     "text": [
      "    Name  Age  Marks     City\n",
      "0  ahmed   15     80   Sukkur\n",
      "1  bilal   18     70    Rorhi\n",
      "2  saeed   20     60  Karachi\n",
      "3  k_ali   25     50  Larkana\n"
     ]
    }
   ],
   "source": [
    "df['City']=['Sukkur','Rorhi','Karachi','Larkana']\n",
    "print(df)"
   ]
  },
  {
   "cell_type": "code",
   "execution_count": 21,
   "metadata": {
    "colab": {
     "base_uri": "https://localhost:8080/"
    },
    "executionInfo": {
     "elapsed": 331,
     "status": "ok",
     "timestamp": 1732718778142,
     "user": {
      "displayName": "Hasnain Hyder",
      "userId": "03785300315798741956"
     },
     "user_tz": -300
    },
    "id": "xka-mPgKEVxW",
    "outputId": "b7ba8bb5-c1dd-48fc-845a-6181d56d776c"
   },
   "outputs": [
    {
     "name": "stdout",
     "output_type": "stream",
     "text": [
      "    Name  Age  Marks\n",
      "0  ahmed   15     80\n",
      "1  bilal   18     70\n",
      "2  saeed   20     60\n",
      "3  k_ali   25     50\n"
     ]
    }
   ],
   "source": [
    "df=df.drop(columns=['City'])\n",
    "print(df)"
   ]
  },
  {
   "cell_type": "code",
   "execution_count": 22,
   "metadata": {
    "colab": {
     "base_uri": "https://localhost:8080/"
    },
    "executionInfo": {
     "elapsed": 347,
     "status": "ok",
     "timestamp": 1732719318982,
     "user": {
      "displayName": "Hasnain Hyder",
      "userId": "03785300315798741956"
     },
     "user_tz": -300
    },
    "id": "HpEnP2r5FlOo",
    "outputId": "a6a52289-0348-430c-aaf1-11087a4eed60"
   },
   "outputs": [
    {
     "name": "stdout",
     "output_type": "stream",
     "text": [
      "    Name  Age\n",
      "2  saeed   20\n",
      "3  k_ali   25\n"
     ]
    }
   ],
   "source": [
    "#Filtering on the basis Age\n",
    "filterd= df[df['Age']>18][['Name','Age']]\n",
    "print(filterd)"
   ]
  },
  {
   "cell_type": "code",
   "execution_count": 33,
   "metadata": {
    "id": "ZeLHQPtYHHkl"
   },
   "outputs": [
    {
     "data": {
      "text/html": [
       "<div>\n",
       "<style scoped>\n",
       "    .dataframe tbody tr th:only-of-type {\n",
       "        vertical-align: middle;\n",
       "    }\n",
       "\n",
       "    .dataframe tbody tr th {\n",
       "        vertical-align: top;\n",
       "    }\n",
       "\n",
       "    .dataframe thead th {\n",
       "        text-align: right;\n",
       "    }\n",
       "</style>\n",
       "<table border=\"1\" class=\"dataframe\">\n",
       "  <thead>\n",
       "    <tr style=\"text-align: right;\">\n",
       "      <th></th>\n",
       "      <th>Name</th>\n",
       "      <th>Age</th>\n",
       "    </tr>\n",
       "  </thead>\n",
       "  <tbody>\n",
       "    <tr>\n",
       "      <th>1</th>\n",
       "      <td>bilal</td>\n",
       "      <td>18</td>\n",
       "    </tr>\n",
       "  </tbody>\n",
       "</table>\n",
       "</div>"
      ],
      "text/plain": [
       "    Name  Age\n",
       "1  bilal   18"
      ]
     },
     "execution_count": 33,
     "metadata": {},
     "output_type": "execute_result"
    }
   ],
   "source": [
    "fltr = df.loc[df['Age'] == 18, ['Name', 'Age']]\n",
    "fltr"
   ]
  },
  {
   "cell_type": "code",
   "execution_count": null,
   "metadata": {},
   "outputs": [],
   "source": []
  }
 ],
 "metadata": {
  "colab": {
   "authorship_tag": "ABX9TyOZhjXjDxy8UNk1pB8ujHEd",
   "provenance": []
  },
  "kernelspec": {
   "display_name": "base",
   "language": "python",
   "name": "python3"
  },
  "language_info": {
   "codemirror_mode": {
    "name": "ipython",
    "version": 3
   },
   "file_extension": ".py",
   "mimetype": "text/x-python",
   "name": "python",
   "nbconvert_exporter": "python",
   "pygments_lexer": "ipython3",
   "version": "3.12.2"
  }
 },
 "nbformat": 4,
 "nbformat_minor": 0
}
