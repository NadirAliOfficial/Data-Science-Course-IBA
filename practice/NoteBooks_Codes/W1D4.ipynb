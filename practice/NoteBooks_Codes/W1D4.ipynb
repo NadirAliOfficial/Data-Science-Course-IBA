{
  "cells": [
    {
      "cell_type": "code",
      "execution_count": null,
      "metadata": {
        "colab": {
          "base_uri": "https://localhost:8080/"
        },
        "id": "EqHkfAvummAR",
        "outputId": "6c351f7f-b8e0-436e-ab49-8cd6be5a80a3"
      },
      "outputs": [
        {
          "name": "stdout",
          "output_type": "stream",
          "text": [
            "Enter your age: 19\n",
            "Enter your salary60000\n",
            "You are eligible for loan\n"
          ]
        }
      ],
      "source": [
        "age= int(input('Enter your age: '))\n",
        "\n",
        "if age>=18:\n",
        "  salary = int(input('Enter your salary'))\n",
        "  if(salary>=50000):\n",
        "    print('You are eligible for loan')\n",
        "  else:\n",
        "    print('You are not eligible for loan')\n",
        "\n",
        "else:\n",
        "  print('Your age is less than 18')"
      ]
    },
    {
      "cell_type": "code",
      "execution_count": null,
      "metadata": {
        "colab": {
          "base_uri": "https://localhost:8080/"
        },
        "id": "XcVvU3RitVFn",
        "outputId": "2baa20f0-4c70-40cb-b868-9e5b79716a12"
      },
      "outputs": [
        {
          "name": "stdout",
          "output_type": "stream",
          "text": [
            "Enter your Qualification: 20\n",
            "Your qualification is not enought for test\n"
          ]
        }
      ],
      "source": [
        "qualification= input('Enter your Qualification: ')\n",
        "\n",
        "if qualification == 'intermediate':\n",
        "  marks = int(input('Enter your STHP test marks: '))\n",
        "  if marks>=90:\n",
        "    print('Your chances are high for admission')\n",
        "  elif marks>=80:\n",
        "    print('your chances is good for admission')\n",
        "  elif marks>=70:\n",
        "    print('your chances is average for admission ')\n",
        "  elif marks>=60:\n",
        "    print('your chances is low for admission')\n",
        "  else:\n",
        "    print('Try mext time')\n",
        "else:\n",
        "  print('Your qualification is not enought for test')"
      ]
    },
    {
      "cell_type": "code",
      "execution_count": null,
      "metadata": {
        "colab": {
          "base_uri": "https://localhost:8080/"
        },
        "id": "lI4q9VdN7fNw",
        "outputId": "2cb83599-271c-4793-877e-5d23ad29dd58"
      },
      "outputs": [
        {
          "name": "stdout",
          "output_type": "stream",
          "text": [
            "Enter your python marks: 50\n",
            "you are passed in python subject\n",
            "Enter your math marks: 39\n",
            "you are fail in math subject that why you are fail in all subject\n"
          ]
        }
      ],
      "source": [
        "python_marks= int(input('Enter your python marks: '))\n",
        "\n",
        "if python_marks>=40:\n",
        "  print('you are passed in python subject')\n",
        "  math_marks= int(input('Enter your math marks: '))\n",
        "  if math_marks>=40:\n",
        "    print('you are passin math subject')\n",
        "    data_science_marks= int(input('Enter your data science marks: '))\n",
        "\n",
        "    if data_science_marks>=40:\n",
        "      print('you are passed in all subject')\n",
        "    else:\n",
        "      print('you are fail in data science subject that why you are fail in all subject')\n",
        "  else:\n",
        "    print('you are fail in math subject that why you are fail in all subject')\n",
        "\n",
        "else:\n",
        "  print(\"you are fail in python that why you are fail in all subjects\")"
      ]
    },
    {
      "cell_type": "code",
      "execution_count": null,
      "metadata": {
        "colab": {
          "base_uri": "https://localhost:8080/"
        },
        "id": "y8ros438DPeF",
        "outputId": "aa8f89f3-3555-4e23-a547-de49fc3124c3"
      },
      "outputs": [
        {
          "name": "stdout",
          "output_type": "stream",
          "text": [
            "Please enter your text: G\n",
            "G\n",
            "g\n",
            "G\n",
            "G\n"
          ]
        }
      ],
      "source": [
        "text= input('Please enter your text: ')\n",
        "print(text)\n",
        "lower_case = text.lower()\n",
        "print(lower_case)\n",
        "upper_case= lower_case.upper()\n",
        "print(upper_case)\n",
        "upper_first_letter= lower_case.title()\n",
        "print(upper_first_letter)\n"
      ]
    },
    {
      "cell_type": "code",
      "execution_count": null,
      "metadata": {
        "colab": {
          "base_uri": "https://localhost:8080/"
        },
        "id": "gAxWzIr_IC9d",
        "outputId": "e134953f-b6be-423a-80c9-69e2ee7e1c88"
      },
      "outputs": [
        {
          "name": "stdout",
          "output_type": "stream",
          "text": [
            "Please enter your text: This class is of data science students\n",
            "This class is of data science students\n",
            "Enter word you want to replace: science\n",
            "Enter new word: scientisit\n",
            "This class is of data scientisit students\n"
          ]
        }
      ],
      "source": [
        "text= input('Please enter your text: ')\n",
        "print(text)\n",
        "\n",
        "word_to_replace= input('Enter word you want to replace: ')\n",
        "new_word= input('Enter new word: ')\n",
        "\n",
        "new_text= text.replace(word_to_replace, new_word)\n",
        "print(new_text)"
      ]
    },
    {
      "cell_type": "code",
      "execution_count": null,
      "metadata": {
        "id": "P_wAdzW9MD5B"
      },
      "outputs": [],
      "source": []
    }
  ],
  "metadata": {
    "colab": {
      "provenance": []
    },
    "kernelspec": {
      "display_name": "Python 3",
      "name": "python3"
    },
    "language_info": {
      "name": "python"
    }
  },
  "nbformat": 4,
  "nbformat_minor": 0
}
