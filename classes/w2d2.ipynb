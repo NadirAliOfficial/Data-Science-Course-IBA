{
 "cells": [
  {
   "cell_type": "code",
   "execution_count": 1,
   "metadata": {},
   "outputs": [
    {
     "name": "stdout",
     "output_type": "stream",
     "text": [
      "Week 2 Day 2\n"
     ]
    }
   ],
   "source": [
    "print(\"Week 2 Day 2\")"
   ]
  },
  {
   "cell_type": "code",
   "execution_count": null,
   "metadata": {},
   "outputs": [],
   "source": [
    "# Lists and Tuples \n",
    "\n",
    "\n",
    "# List\n",
    "# A list is a collection of items that can be of any data type, including strings, integers.\n",
    "# A list is changeable\n",
    "\n",
    "# Tuple\n",
    "# A tuple is a collection which is ordered and unchangeable. In Python tuples are defined by\n",
    "# enclosing elements in parentheses ()\n",
    "# Tuples are used to store multiple items in a single variable.\n",
    "# For example if you want to store a list of tuples in a variable that has one item in it, \n",
    "# you can use a tuple instead of a list.\n",
    "# Tuples are immutable, meaning that once a tuple is created, you cannot change its elements.\n"
   ]
  },
  {
   "cell_type": "code",
   "execution_count": 3,
   "metadata": {},
   "outputs": [
    {
     "name": "stdout",
     "output_type": "stream",
     "text": [
      "This is List:  ['Nadir', 'Ali', 'Faraz']\n",
      "This is Tuple:  (12, 13, 14, 15, 16, 17, 18, 19, 20)\n"
     ]
    }
   ],
   "source": [
    "# This is the List\n",
    "list_names  = ['Nadir', 'Ali', 'Faraz']\n",
    "print(\"This is List: \", list_names)\n",
    "\n",
    "# This is the Tuple\n",
    "tuple_numbers = (12, 13, 14, 15, 16, 17, 18) + (19, 20)\n",
    "print(\"This is Tuple: \",tuple_numbers)\n"
   ]
  },
  {
   "cell_type": "code",
   "execution_count": null,
   "metadata": {},
   "outputs": [
    {
     "name": "stdout",
     "output_type": "stream",
     "text": [
      "This is Set1:  {1, 2, 3, 4}\n",
      "This is Set2:  {4, 5, 6, 7}\n",
      "This is Union of Set1 and Set2:  {1, 2, 3, 4, 5, 6, 7}\n",
      "This is the intersection of Set1 and Set2:  {4}\n",
      "This is the difference of Set1 and Set2:  {1, 2, 3}\n"
     ]
    }
   ],
   "source": [
    "# This is the Set\n",
    "set1 = {1, 2, 3, 4}\n",
    "set2 = { 4, 5, 6, 7}\n",
    "\n",
    "set3 = set1.union(set2)\n",
    "set4 = set1.intersection(set2)\n",
    "set5 = set1.difference(set2)\n",
    "\n",
    "\n",
    "print(\"This is Set1: \", set1)\n",
    "print(\"This is Set2: \", set2)\n",
    "print(\"This is Union of Set1 and Set2: \", set3)\n",
    "print(\"This is the intersection of Set1 and Set2: \", set4)\n",
    "print(\"This is the difference of Set1 and Set2: \", set5)"
   ]
  },
  {
   "cell_type": "code",
   "execution_count": 31,
   "metadata": {},
   "outputs": [
    {
     "data": {
      "text/plain": [
       "{1, 2, 3, 4, 5, 6, 7}"
      ]
     },
     "execution_count": 31,
     "metadata": {},
     "output_type": "execute_result"
    }
   ],
   "source": [
    "set1 | set2 "
   ]
  },
  {
   "cell_type": "code",
   "execution_count": 32,
   "metadata": {},
   "outputs": [
    {
     "data": {
      "text/plain": [
       "{1, 2, 3}"
      ]
     },
     "execution_count": 32,
     "metadata": {},
     "output_type": "execute_result"
    }
   ],
   "source": [
    "set1 - set2"
   ]
  },
  {
   "cell_type": "code",
   "execution_count": 43,
   "metadata": {},
   "outputs": [
    {
     "data": {
      "text/plain": [
       "{4}"
      ]
     },
     "execution_count": 43,
     "metadata": {},
     "output_type": "execute_result"
    }
   ],
   "source": [
    "# How to intersect sets without function in py\n",
    "set1 & set2"
   ]
  },
  {
   "cell_type": "code",
   "execution_count": null,
   "metadata": {},
   "outputs": [],
   "source": []
  },
  {
   "cell_type": "code",
   "execution_count": 44,
   "metadata": {},
   "outputs": [
    {
     "data": {
      "text/plain": [
       "{1, 2, 3, 5, 6, 7}"
      ]
     },
     "execution_count": 44,
     "metadata": {},
     "output_type": "execute_result"
    }
   ],
   "source": [
    "set2.symmetric_difference(set1)"
   ]
  },
  {
   "cell_type": "code",
   "execution_count": 84,
   "metadata": {},
   "outputs": [
    {
     "name": "stdout",
     "output_type": "stream",
     "text": [
      "Union of A B C: {1, 2, 3, 4, 5, 6, 7, 8, 9, 10, 11, 12, 13, 14, 15}\n",
      "Intersection of A B C: {6, 7, 8, 9, 10}\n",
      "Difference of A B C: {1, 2, 3, 4}\n",
      "Difference of B A C: {11, 12, 13, 14, 15}\n",
      "Difference of C A B: set()\n",
      "Symmetric Difference of A B C: {1, 2, 3, 4, 6, 7, 8, 9, 10, 11, 12, 13, 14, 15}\n"
     ]
    }
   ],
   "source": [
    "A = {1,2,3,4,5,6,7,8,9,10}\n",
    "B = {5,6,7,8,9,10,11,12,13,14,15}\n",
    "C = { 6,7,8,9,10}\n",
    "\n",
    "print(f\"Union of A B C: {A | B | C}\")\n",
    "print(f\"Intersection of A B C: {A & B & C}\")\n",
    "print(f\"Difference of A B C: {A - B - C}\")\n",
    "print(f\"Difference of B A C: {B - A - C}\")\n",
    "print(f\"Difference of C A B: {C - A - B}\")\n",
    "print(f\"Symmetric Difference of A B C: {A ^ B ^ C}\")\n"
   ]
  },
  {
   "cell_type": "code",
   "execution_count": 89,
   "metadata": {},
   "outputs": [
    {
     "name": "stdout",
     "output_type": "stream",
     "text": [
      "['Reading', 'Cricket', 'Coding']\n"
     ]
    }
   ],
   "source": [
    "dict = {\n",
    "    'Name': 'Nadir',\n",
    "    'Age': 25,\n",
    "    'Gender': 'Male',\n",
    "    'Hobbies': ['Reading', 'Cricket', 'Coding']\n",
    "}\n",
    "\n",
    "print(dict['Hobbies'])"
   ]
  },
  {
   "cell_type": "code",
   "execution_count": null,
   "metadata": {},
   "outputs": [],
   "source": []
  },
  {
   "cell_type": "code",
   "execution_count": null,
   "metadata": {},
   "outputs": [],
   "source": []
  },
  {
   "cell_type": "code",
   "execution_count": null,
   "metadata": {},
   "outputs": [],
   "source": []
  },
  {
   "cell_type": "markdown",
   "metadata": {},
   "source": []
  },
  {
   "cell_type": "code",
   "execution_count": null,
   "metadata": {},
   "outputs": [],
   "source": []
  }
 ],
 "metadata": {
  "kernelspec": {
   "display_name": "base",
   "language": "python",
   "name": "python3"
  },
  "language_info": {
   "codemirror_mode": {
    "name": "ipython",
    "version": 3
   },
   "file_extension": ".py",
   "mimetype": "text/x-python",
   "name": "python",
   "nbconvert_exporter": "python",
   "pygments_lexer": "ipython3",
   "version": "3.12.2"
  }
 },
 "nbformat": 4,
 "nbformat_minor": 2
}
