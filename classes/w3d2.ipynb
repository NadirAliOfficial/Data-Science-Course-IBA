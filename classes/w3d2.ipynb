{
 "cells": [
  {
   "cell_type": "code",
   "execution_count": 3,
   "metadata": {},
   "outputs": [
    {
     "name": "stdout",
     "output_type": "stream",
     "text": [
      "Week 3 Day 2\n"
     ]
    }
   ],
   "source": [
    "print(\"Week 3 Day 2\")"
   ]
  },
  {
   "cell_type": "code",
   "execution_count": 4,
   "metadata": {},
   "outputs": [],
   "source": [
    "import pandas as pd\n"
   ]
  },
  {
   "cell_type": "code",
   "execution_count": 5,
   "metadata": {},
   "outputs": [
    {
     "data": {
      "text/html": [
       "<div>\n",
       "<style scoped>\n",
       "    .dataframe tbody tr th:only-of-type {\n",
       "        vertical-align: middle;\n",
       "    }\n",
       "\n",
       "    .dataframe tbody tr th {\n",
       "        vertical-align: top;\n",
       "    }\n",
       "\n",
       "    .dataframe thead th {\n",
       "        text-align: right;\n",
       "    }\n",
       "</style>\n",
       "<table border=\"1\" class=\"dataframe\">\n",
       "  <thead>\n",
       "    <tr style=\"text-align: right;\">\n",
       "      <th></th>\n",
       "      <th>Movie_ID</th>\n",
       "      <th>Title</th>\n",
       "      <th>Release_Year</th>\n",
       "      <th>Genre</th>\n",
       "      <th>Director</th>\n",
       "      <th>Box_Office</th>\n",
       "      <th>IMDB_Rating</th>\n",
       "      <th>Duration_Minutes</th>\n",
       "    </tr>\n",
       "  </thead>\n",
       "  <tbody>\n",
       "    <tr>\n",
       "      <th>0</th>\n",
       "      <td>4101</td>\n",
       "      <td>Winter's End</td>\n",
       "      <td>2001</td>\n",
       "      <td>Action</td>\n",
       "      <td>Greta Gerwig</td>\n",
       "      <td>1.868940e+09</td>\n",
       "      <td>8.1</td>\n",
       "      <td>145</td>\n",
       "    </tr>\n",
       "    <tr>\n",
       "      <th>1</th>\n",
       "      <td>4102</td>\n",
       "      <td>Winter's End</td>\n",
       "      <td>2007</td>\n",
       "      <td>Drama</td>\n",
       "      <td>Christopher Nolan</td>\n",
       "      <td>1.173196e+09</td>\n",
       "      <td>7.9</td>\n",
       "      <td>150</td>\n",
       "    </tr>\n",
       "    <tr>\n",
       "      <th>2</th>\n",
       "      <td>4103</td>\n",
       "      <td>Final Battle</td>\n",
       "      <td>2005</td>\n",
       "      <td>Romance</td>\n",
       "      <td>Wes Anderson</td>\n",
       "      <td>1.400355e+09</td>\n",
       "      <td>6.5</td>\n",
       "      <td>122</td>\n",
       "    </tr>\n",
       "    <tr>\n",
       "      <th>3</th>\n",
       "      <td>4104</td>\n",
       "      <td>Nightfall</td>\n",
       "      <td>1981</td>\n",
       "      <td>Drama</td>\n",
       "      <td>Steven Spielberg</td>\n",
       "      <td>1.212908e+09</td>\n",
       "      <td>8.2</td>\n",
       "      <td>191</td>\n",
       "    </tr>\n",
       "    <tr>\n",
       "      <th>4</th>\n",
       "      <td>4105</td>\n",
       "      <td>The Lost City</td>\n",
       "      <td>2002</td>\n",
       "      <td>Comedy</td>\n",
       "      <td>Christopher Nolan</td>\n",
       "      <td>5.033625e+08</td>\n",
       "      <td>3.8</td>\n",
       "      <td>96</td>\n",
       "    </tr>\n",
       "  </tbody>\n",
       "</table>\n",
       "</div>"
      ],
      "text/plain": [
       "   Movie_ID          Title  Release_Year    Genre           Director  \\\n",
       "0      4101   Winter's End          2001   Action       Greta Gerwig   \n",
       "1      4102   Winter's End          2007    Drama  Christopher Nolan   \n",
       "2      4103   Final Battle          2005  Romance       Wes Anderson   \n",
       "3      4104      Nightfall          1981    Drama   Steven Spielberg   \n",
       "4      4105  The Lost City          2002   Comedy  Christopher Nolan   \n",
       "\n",
       "     Box_Office  IMDB_Rating  Duration_Minutes  \n",
       "0  1.868940e+09          8.1               145  \n",
       "1  1.173196e+09          7.9               150  \n",
       "2  1.400355e+09          6.5               122  \n",
       "3  1.212908e+09          8.2               191  \n",
       "4  5.033625e+08          3.8                96  "
      ]
     },
     "execution_count": 5,
     "metadata": {},
     "output_type": "execute_result"
    }
   ],
   "source": [
    "df = pd.read_csv(\"/home/nak/Data-Science-Course-IBA/data/new_movies_data.csv\")\n",
    "\n",
    "df.head()"
   ]
  },
  {
   "cell_type": "code",
   "execution_count": 6,
   "metadata": {},
   "outputs": [
    {
     "data": {
      "text/plain": [
       "Genre\n",
       "Action       6.181250\n",
       "Adventure    6.115789\n",
       "Comedy       5.605556\n",
       "Drama        6.269231\n",
       "Horror       6.360000\n",
       "Romance      7.142105\n",
       "Sci-Fi       5.470588\n",
       "Thriller     6.026667\n",
       "Name: IMDB_Rating, dtype: float64"
      ]
     },
     "execution_count": 6,
     "metadata": {},
     "output_type": "execute_result"
    }
   ],
   "source": [
    "df.groupby(\"Genre\")[\"IMDB_Rating\"].mean()"
   ]
  },
  {
   "cell_type": "code",
   "execution_count": 7,
   "metadata": {},
   "outputs": [
    {
     "data": {
      "text/html": [
       "<div>\n",
       "<style scoped>\n",
       "    .dataframe tbody tr th:only-of-type {\n",
       "        vertical-align: middle;\n",
       "    }\n",
       "\n",
       "    .dataframe tbody tr th {\n",
       "        vertical-align: top;\n",
       "    }\n",
       "\n",
       "    .dataframe thead th {\n",
       "        text-align: right;\n",
       "    }\n",
       "</style>\n",
       "<table border=\"1\" class=\"dataframe\">\n",
       "  <thead>\n",
       "    <tr style=\"text-align: right;\">\n",
       "      <th></th>\n",
       "      <th>Movie_ID</th>\n",
       "      <th>Title</th>\n",
       "      <th>Release_Year</th>\n",
       "      <th>Genre</th>\n",
       "      <th>Director</th>\n",
       "      <th>Box_Office</th>\n",
       "      <th>IMDB_Rating</th>\n",
       "      <th>Duration_Minutes</th>\n",
       "    </tr>\n",
       "  </thead>\n",
       "  <tbody>\n",
       "    <tr>\n",
       "      <th>104</th>\n",
       "      <td>4205</td>\n",
       "      <td>The Lost City</td>\n",
       "      <td>1977</td>\n",
       "      <td>Adventure</td>\n",
       "      <td>James Cameron</td>\n",
       "      <td>1.329075e+09</td>\n",
       "      <td>2.0</td>\n",
       "      <td>80</td>\n",
       "    </tr>\n",
       "    <tr>\n",
       "      <th>8</th>\n",
       "      <td>4109</td>\n",
       "      <td>Silent Echo</td>\n",
       "      <td>1985</td>\n",
       "      <td>Adventure</td>\n",
       "      <td>Christopher Nolan</td>\n",
       "      <td>1.102341e+09</td>\n",
       "      <td>4.5</td>\n",
       "      <td>82</td>\n",
       "    </tr>\n",
       "    <tr>\n",
       "      <th>144</th>\n",
       "      <td>4245</td>\n",
       "      <td>Into the Wild</td>\n",
       "      <td>1992</td>\n",
       "      <td>Horror</td>\n",
       "      <td>Steven Spielberg</td>\n",
       "      <td>7.977060e+08</td>\n",
       "      <td>8.4</td>\n",
       "      <td>82</td>\n",
       "    </tr>\n",
       "    <tr>\n",
       "      <th>78</th>\n",
       "      <td>4179</td>\n",
       "      <td>The Lost City</td>\n",
       "      <td>1998</td>\n",
       "      <td>Action</td>\n",
       "      <td>Greta Gerwig</td>\n",
       "      <td>8.012819e+08</td>\n",
       "      <td>9.2</td>\n",
       "      <td>84</td>\n",
       "    </tr>\n",
       "    <tr>\n",
       "      <th>111</th>\n",
       "      <td>4212</td>\n",
       "      <td>Nightfall</td>\n",
       "      <td>1982</td>\n",
       "      <td>Sci-Fi</td>\n",
       "      <td>Steven Spielberg</td>\n",
       "      <td>6.511776e+08</td>\n",
       "      <td>4.3</td>\n",
       "      <td>85</td>\n",
       "    </tr>\n",
       "  </tbody>\n",
       "</table>\n",
       "</div>"
      ],
      "text/plain": [
       "     Movie_ID          Title  Release_Year      Genre           Director  \\\n",
       "104      4205  The Lost City          1977  Adventure      James Cameron   \n",
       "8        4109    Silent Echo          1985  Adventure  Christopher Nolan   \n",
       "144      4245  Into the Wild          1992     Horror   Steven Spielberg   \n",
       "78       4179  The Lost City          1998     Action       Greta Gerwig   \n",
       "111      4212      Nightfall          1982     Sci-Fi   Steven Spielberg   \n",
       "\n",
       "       Box_Office  IMDB_Rating  Duration_Minutes  \n",
       "104  1.329075e+09          2.0                80  \n",
       "8    1.102341e+09          4.5                82  \n",
       "144  7.977060e+08          8.4                82  \n",
       "78   8.012819e+08          9.2                84  \n",
       "111  6.511776e+08          4.3                85  "
      ]
     },
     "execution_count": 7,
     "metadata": {},
     "output_type": "execute_result"
    }
   ],
   "source": [
    "sorted = df.sort_values(by='Duration_Minutes')\n",
    "sorted.head()"
   ]
  },
  {
   "cell_type": "code",
   "execution_count": 8,
   "metadata": {},
   "outputs": [
    {
     "data": {
      "text/plain": [
       "np.float64(6.168666666666667)"
      ]
     },
     "execution_count": 8,
     "metadata": {},
     "output_type": "execute_result"
    }
   ],
   "source": [
    "df.IMDB_Rating.mean()"
   ]
  },
  {
   "cell_type": "code",
   "execution_count": 45,
   "metadata": {},
   "outputs": [
    {
     "data": {
      "text/html": [
       "<div>\n",
       "<style scoped>\n",
       "    .dataframe tbody tr th:only-of-type {\n",
       "        vertical-align: middle;\n",
       "    }\n",
       "\n",
       "    .dataframe tbody tr th {\n",
       "        vertical-align: top;\n",
       "    }\n",
       "\n",
       "    .dataframe thead th {\n",
       "        text-align: right;\n",
       "    }\n",
       "</style>\n",
       "<table border=\"1\" class=\"dataframe\">\n",
       "  <thead>\n",
       "    <tr style=\"text-align: right;\">\n",
       "      <th></th>\n",
       "      <th>Name</th>\n",
       "      <th>Score</th>\n",
       "    </tr>\n",
       "  </thead>\n",
       "  <tbody>\n",
       "    <tr>\n",
       "      <th>0</th>\n",
       "      <td>Ahsan</td>\n",
       "      <td>40</td>\n",
       "    </tr>\n",
       "    <tr>\n",
       "      <th>1</th>\n",
       "      <td>Nadir</td>\n",
       "      <td>50</td>\n",
       "    </tr>\n",
       "    <tr>\n",
       "      <th>2</th>\n",
       "      <td>Abbas</td>\n",
       "      <td>70</td>\n",
       "    </tr>\n",
       "    <tr>\n",
       "      <th>3</th>\n",
       "      <td>Bilal</td>\n",
       "      <td>80</td>\n",
       "    </tr>\n",
       "    <tr>\n",
       "      <th>4</th>\n",
       "      <td>Basit</td>\n",
       "      <td>30</td>\n",
       "    </tr>\n",
       "    <tr>\n",
       "      <th>5</th>\n",
       "      <td>Nadir</td>\n",
       "      <td>40</td>\n",
       "    </tr>\n",
       "    <tr>\n",
       "      <th>6</th>\n",
       "      <td>Raheem</td>\n",
       "      <td>60</td>\n",
       "    </tr>\n",
       "    <tr>\n",
       "      <th>7</th>\n",
       "      <td>Abbas</td>\n",
       "      <td>70</td>\n",
       "    </tr>\n",
       "  </tbody>\n",
       "</table>\n",
       "</div>"
      ],
      "text/plain": [
       "     Name  Score\n",
       "0   Ahsan     40\n",
       "1   Nadir     50\n",
       "2   Abbas     70\n",
       "3   Bilal     80\n",
       "4   Basit     30\n",
       "5   Nadir     40\n",
       "6  Raheem     60\n",
       "7   Abbas     70"
      ]
     },
     "execution_count": 45,
     "metadata": {},
     "output_type": "execute_result"
    }
   ],
   "source": [
    "import pandas as pd\n",
    "\n",
    "df1 = pd.DataFrame({\n",
    "    \"Name\": [\"Ahsan\", \"Nadir\", \"Abbas\", \"Bilal\"],\n",
    "    \"Score\": [40, 50, 70, 80]\n",
    "})\n",
    "\n",
    "df2 = pd.DataFrame({\n",
    "    \"Name\": ['Basit', 'Nadir', 'Raheem', 'Abbas'],\n",
    "    \"Score\": [30, 40, 60, 70]\n",
    "})\n",
    "\n",
    "concat_df = pd.concat([df1, df2], axis=0, ignore_index=True)\n",
    "concat_df"
   ]
  },
  {
   "cell_type": "code",
   "execution_count": 46,
   "metadata": {},
   "outputs": [
    {
     "data": {
      "text/html": [
       "<div>\n",
       "<style scoped>\n",
       "    .dataframe tbody tr th:only-of-type {\n",
       "        vertical-align: middle;\n",
       "    }\n",
       "\n",
       "    .dataframe tbody tr th {\n",
       "        vertical-align: top;\n",
       "    }\n",
       "\n",
       "    .dataframe thead th {\n",
       "        text-align: right;\n",
       "    }\n",
       "</style>\n",
       "<table border=\"1\" class=\"dataframe\">\n",
       "  <thead>\n",
       "    <tr style=\"text-align: right;\">\n",
       "      <th></th>\n",
       "      <th>Name</th>\n",
       "      <th>Score_x</th>\n",
       "      <th>Score_y</th>\n",
       "    </tr>\n",
       "  </thead>\n",
       "  <tbody>\n",
       "    <tr>\n",
       "      <th>0</th>\n",
       "      <td>Nadir</td>\n",
       "      <td>50</td>\n",
       "      <td>40</td>\n",
       "    </tr>\n",
       "    <tr>\n",
       "      <th>1</th>\n",
       "      <td>Abbas</td>\n",
       "      <td>70</td>\n",
       "      <td>70</td>\n",
       "    </tr>\n",
       "  </tbody>\n",
       "</table>\n",
       "</div>"
      ],
      "text/plain": [
       "    Name  Score_x  Score_y\n",
       "0  Nadir       50       40\n",
       "1  Abbas       70       70"
      ]
     },
     "execution_count": 46,
     "metadata": {},
     "output_type": "execute_result"
    }
   ],
   "source": [
    "merged = pd.merge(df1, df2, on='Name')\n",
    "merged"
   ]
  },
  {
   "cell_type": "code",
   "execution_count": 105,
   "metadata": {},
   "outputs": [
    {
     "data": {
      "text/plain": [
       "array([22, 21, 24, 22, 22])"
      ]
     },
     "execution_count": 105,
     "metadata": {},
     "output_type": "execute_result"
    }
   ],
   "source": [
    "import numpy as np\n",
    "age = np.random.randint(20, 25, size=5)\n",
    "age"
   ]
  },
  {
   "cell_type": "code",
   "execution_count": 106,
   "metadata": {},
   "outputs": [],
   "source": [
    "df3 = pd.DataFrame({\n",
    "    \"Name\": [\"Ahsan\", \"Nadir\", \"Abbas\", \"Bilal\"],\n",
    "    \"Age\": [30, 22, 25, 1000]\n",
    "})\n",
    "\n"
   ]
  },
  {
   "cell_type": "code",
   "execution_count": null,
   "metadata": {},
   "outputs": [],
   "source": []
  },
  {
   "cell_type": "code",
   "execution_count": null,
   "metadata": {},
   "outputs": [],
   "source": []
  },
  {
   "cell_type": "code",
   "execution_count": 104,
   "metadata": {},
   "outputs": [
    {
     "data": {
      "text/html": [
       "<div>\n",
       "<style scoped>\n",
       "    .dataframe tbody tr th:only-of-type {\n",
       "        vertical-align: middle;\n",
       "    }\n",
       "\n",
       "    .dataframe tbody tr th {\n",
       "        vertical-align: top;\n",
       "    }\n",
       "\n",
       "    .dataframe thead th {\n",
       "        text-align: right;\n",
       "    }\n",
       "</style>\n",
       "<table border=\"1\" class=\"dataframe\">\n",
       "  <thead>\n",
       "    <tr style=\"text-align: right;\">\n",
       "      <th></th>\n",
       "      <th>Name</th>\n",
       "      <th>Age</th>\n",
       "    </tr>\n",
       "  </thead>\n",
       "  <tbody>\n",
       "    <tr>\n",
       "      <th>3</th>\n",
       "      <td>Bilal</td>\n",
       "      <td>644.875</td>\n",
       "    </tr>\n",
       "  </tbody>\n",
       "</table>\n",
       "</div>"
      ],
      "text/plain": [
       "    Name      Age\n",
       "3  Bilal  644.875"
      ]
     },
     "execution_count": 104,
     "metadata": {},
     "output_type": "execute_result"
    }
   ],
   "source": [
    "q1 = df3.Age.quantile(0.25)\n",
    "q3 = df3.Age.quantile(0.75)\n",
    "\n",
    "iqr = q3 - q1\n",
    "iqr\n",
    "\n",
    "# Lower and upper bounds\n",
    "lower_bound = q1 - 1.5 * iqr\n",
    "upper_bound = q3 + 1.5 * iqr\n",
    "\n",
    "# Outliers\n",
    "outliers = df3[(df3.Age < lower_bound) | (df3.Age > upper_bound)]\n",
    "outliers"
   ]
  },
  {
   "cell_type": "code",
   "execution_count": null,
   "metadata": {},
   "outputs": [],
   "source": []
  },
  {
   "cell_type": "code",
   "execution_count": null,
   "metadata": {},
   "outputs": [],
   "source": []
  }
 ],
 "metadata": {
  "kernelspec": {
   "display_name": "base",
   "language": "python",
   "name": "python3"
  },
  "language_info": {
   "codemirror_mode": {
    "name": "ipython",
    "version": 3
   },
   "file_extension": ".py",
   "mimetype": "text/x-python",
   "name": "python",
   "nbconvert_exporter": "python",
   "pygments_lexer": "ipython3",
   "version": "3.12.2"
  }
 },
 "nbformat": 4,
 "nbformat_minor": 2
}
