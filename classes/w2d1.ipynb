{
 "cells": [
  {
   "cell_type": "code",
   "execution_count": 3,
   "metadata": {},
   "outputs": [
    {
     "name": "stdout",
     "output_type": "stream",
     "text": [
      "Week 2 Day 1\n"
     ]
    }
   ],
   "source": [
    "print('Week 2 Day 1')"
   ]
  },
  {
   "cell_type": "code",
   "execution_count": 4,
   "metadata": {},
   "outputs": [
    {
     "data": {
      "text/plain": [
       "534"
      ]
     },
     "execution_count": 4,
     "metadata": {},
     "output_type": "execute_result"
    }
   ],
   "source": [
    "#  Revision of Builtin Functions\n",
    "\n",
    "list1 = [54,34, 534]\n",
    "max(list1)"
   ]
  },
  {
   "cell_type": "code",
   "execution_count": 5,
   "metadata": {},
   "outputs": [
    {
     "name": "stdout",
     "output_type": "stream",
     "text": [
      "Absolute value of 12 is 12.\n"
     ]
    }
   ],
   "source": [
    "# Using Absolute Function\n",
    "absolute = int(input('Enter any number to get absolute value: '))\n",
    "\n",
    "print(f\"Absolute value of {absolute} is {abs(absolute)}.\")"
   ]
  },
  {
   "cell_type": "code",
   "execution_count": 6,
   "metadata": {},
   "outputs": [
    {
     "name": "stdout",
     "output_type": "stream",
     "text": [
      "Power value of 11 is 121\n"
     ]
    }
   ],
   "source": [
    "#  Using Power Function\n",
    "num1 = 11\n",
    "print(f\"Power value of {num1} is {pow(num1,2)}\")"
   ]
  },
  {
   "cell_type": "code",
   "execution_count": 7,
   "metadata": {},
   "outputs": [
    {
     "data": {
      "text/plain": [
       "27"
      ]
     },
     "execution_count": 7,
     "metadata": {},
     "output_type": "execute_result"
    }
   ],
   "source": [
    "3**3\n"
   ]
  },
  {
   "cell_type": "code",
   "execution_count": 8,
   "metadata": {},
   "outputs": [
    {
     "data": {
      "text/plain": [
       "27"
      ]
     },
     "execution_count": 8,
     "metadata": {},
     "output_type": "execute_result"
    }
   ],
   "source": [
    "pow(3,3)"
   ]
  },
  {
   "cell_type": "code",
   "execution_count": 9,
   "metadata": {},
   "outputs": [
    {
     "data": {
      "text/plain": [
       "(5, 0)"
      ]
     },
     "execution_count": 9,
     "metadata": {},
     "output_type": "execute_result"
    }
   ],
   "source": [
    "\n",
    "#  How to use divmode\n",
    "divmod(10, 2)"
   ]
  },
  {
   "cell_type": "code",
   "execution_count": 10,
   "metadata": {},
   "outputs": [
    {
     "name": "stdout",
     "output_type": "stream",
     "text": [
      "List 1: Containing strings and integers:['nadir', 322, 'ali', 'ubed']\n",
      "List 2: Containing integers: [12, 43, 44, 45, 46, 47]\n",
      "List 3: Containing floats and Integers: [33.4, 34, 35, 36]\n"
     ]
    }
   ],
   "source": [
    "# lists \n",
    "l1 = ['nadir', 322, 'ali', 'ubed']\n",
    "print(f'List 1: Containing strings and integers:{l1}')\n",
    "\n",
    "l2 = [12, 43, 44, 45, 46, 47]\n",
    "print(f'List 2: Containing integers: {l2}')\n",
    "\n",
    "l3 = [33.4, 34 , 35 , 36]\n",
    "print(f'List 3: Containing floats and Integers: {l3}')"
   ]
  },
  {
   "cell_type": "code",
   "execution_count": 11,
   "metadata": {},
   "outputs": [],
   "source": [
    "# functions we can apply on lists\n",
    "l1.append(3)\n",
    "l1.remove(3)\n",
    "l1.reverse() \n",
    "l3.sort()\n"
   ]
  },
  {
   "cell_type": "code",
   "execution_count": 12,
   "metadata": {},
   "outputs": [
    {
     "data": {
      "text/plain": [
       "['ubed', 'ali', 322, 'nadir']"
      ]
     },
     "execution_count": 12,
     "metadata": {},
     "output_type": "execute_result"
    }
   ],
   "source": [
    "l1"
   ]
  },
  {
   "cell_type": "code",
   "execution_count": 13,
   "metadata": {},
   "outputs": [],
   "source": [
    "if \"ubed\" in l1:\n",
    "    l1.remove(\"ubed\")\n",
    "else:\n",
    "    print(\"Ubed is not in the list.\")\n",
    "    print()\n",
    "    "
   ]
  },
  {
   "cell_type": "code",
   "execution_count": 14,
   "metadata": {},
   "outputs": [],
   "source": [
    "names = ['Nadir Ali', 'Ubaid', 'Ali Abbas']\n"
   ]
  },
  {
   "cell_type": "code",
   "execution_count": 15,
   "metadata": {},
   "outputs": [
    {
     "name": "stdout",
     "output_type": "stream",
     "text": [
      "1. Nadir Ali\n",
      "2. Ubaid\n",
      "3. Ali Abbas\n"
     ]
    }
   ],
   "source": [
    "for i,  name in enumerate(names, 1):\n",
    "    print(f'{i}. {name}')"
   ]
  },
  {
   "cell_type": "code",
   "execution_count": 16,
   "metadata": {},
   "outputs": [],
   "source": [
    "lst = [4,4,2]\n",
    "tup = (3,5,6,23)\n"
   ]
  },
  {
   "cell_type": "code",
   "execution_count": null,
   "metadata": {},
   "outputs": [
    {
     "name": "stdout",
     "output_type": "stream",
     "text": [
      "Names Sorted\n",
      "['Ali Abbas', 'Faraz', 'Janzeb', 'Nadir Ali', 'Ubaid']\n"
     ]
    }
   ],
   "source": [
    "ch = int(input('Enter Choice: 1. Add 2. Delete 3. Sort'))\n",
    "\n",
    "if ch == 1:\n",
    "    names.append(input('Enter name: '))\n",
    "    print(names[-1], \"Added\")\n",
    "    print(names)\n",
    "elif ch == 2:\n",
    "    names.remove(input('Enter name to delete: '))\n",
    "    print(names)\n",
    "elif ch == 3:\n",
    "    names.sort()\n",
    "    print('Names Sorted:')\n",
    "    print(names)\n",
    "else:\n",
    "    print('Invalid Choice')"
   ]
  },
  {
   "cell_type": "code",
   "execution_count": null,
   "metadata": {},
   "outputs": [],
   "source": []
  }
 ],
 "metadata": {
  "kernelspec": {
   "display_name": "base",
   "language": "python",
   "name": "python3"
  },
  "language_info": {
   "codemirror_mode": {
    "name": "ipython",
    "version": 3
   },
   "file_extension": ".py",
   "mimetype": "text/x-python",
   "name": "python",
   "nbconvert_exporter": "python",
   "pygments_lexer": "ipython3",
   "version": "3.12.2"
  }
 },
 "nbformat": 4,
 "nbformat_minor": 2
}
