{
 "cells": [
  {
   "cell_type": "markdown",
   "metadata": {},
   "source": [
    "<h1>Data Science Course Sukkur IBA University</h1>\n",
    "<h2>Nadir Ali Khan | Date: 18,11,2024</h2>"
   ]
  },
  {
   "cell_type": "code",
   "execution_count": 1,
   "metadata": {},
   "outputs": [
    {
     "name": "stdout",
     "output_type": "stream",
     "text": [
      "Week 1 Day 1\n"
     ]
    }
   ],
   "source": [
    "print('Week 1 Day 1')"
   ]
  },
  {
   "cell_type": "code",
   "execution_count": 25,
   "metadata": {},
   "outputs": [
    {
     "name": "stdout",
     "output_type": "stream",
     "text": [
      "My Name is Nadir Ali Khan\n",
      "I am 20 Years Old\n",
      "I am from Sukkur, Pakistan\n",
      "My Marks are 834 in HSC-II\n",
      "I am the best, and The data scientist\n"
     ]
    }
   ],
   "source": [
    "name = 'Nadir Ali Khan'\n",
    "age = 20\n",
    "city = 'Sukkur, Pakistan'\n",
    "marks = 834\n",
    "qualification = 'HSC-II'\n",
    "description = 'I am the best, and The data scientist'\n",
    "\n",
    "print(f'My Name is {name}')\n",
    "print(f'I am {age} Years Old')\n",
    "print(f'I am from {city}')\n",
    "print(f'My Marks are {marks} in {qualification}')\n",
    "print(description)"
   ]
  },
  {
   "cell_type": "code",
   "execution_count": 26,
   "metadata": {},
   "outputs": [
    {
     "name": "stdout",
     "output_type": "stream",
     "text": [
      "Name: Nadir, Age: 20, Marks: 834\n"
     ]
    }
   ],
   "source": [
    "name = \"Nadir\"\n",
    "age = 20\n",
    "marks = 834\n",
    "print(f\"Name: {name}, Age: {age}, Marks: {marks}\")"
   ]
  },
  {
   "cell_type": "code",
   "execution_count": 27,
   "metadata": {},
   "outputs": [
    {
     "name": "stdout",
     "output_type": "stream",
     "text": [
      "Hello, Nadir Ali! You are 20 years old.\n"
     ]
    }
   ],
   "source": [
    "name = input('Enter Your Name: ')\n",
    "age = int(input('Enter your age: '))\n",
    "print(f'Hello, {name}! You are {age} years old.')"
   ]
  },
  {
   "cell_type": "code",
   "execution_count": null,
   "metadata": {},
   "outputs": [],
   "source": [
    "# First Week is For Python and then we'll move to the Data Science Course\n",
    "# This is the first week of the course, so we'll start  the basics of Pythonwith"
   ]
  },
  {
   "cell_type": "code",
   "execution_count": null,
   "metadata": {},
   "outputs": [],
   "source": []
  },
  {
   "cell_type": "code",
   "execution_count": null,
   "metadata": {},
   "outputs": [],
   "source": []
  },
  {
   "cell_type": "code",
   "execution_count": null,
   "metadata": {},
   "outputs": [],
   "source": []
  },
  {
   "cell_type": "code",
   "execution_count": null,
   "metadata": {},
   "outputs": [],
   "source": []
  },
  {
   "cell_type": "code",
   "execution_count": null,
   "metadata": {},
   "outputs": [],
   "source": []
  },
  {
   "cell_type": "code",
   "execution_count": null,
   "metadata": {},
   "outputs": [],
   "source": []
  },
  {
   "cell_type": "code",
   "execution_count": null,
   "metadata": {},
   "outputs": [],
   "source": []
  }
 ],
 "metadata": {
  "kernelspec": {
   "display_name": "base",
   "language": "python",
   "name": "python3"
  },
  "language_info": {
   "codemirror_mode": {
    "name": "ipython",
    "version": 3
   },
   "file_extension": ".py",
   "mimetype": "text/x-python",
   "name": "python",
   "nbconvert_exporter": "python",
   "pygments_lexer": "ipython3",
   "version": "3.12.2"
  }
 },
 "nbformat": 4,
 "nbformat_minor": 2
}
