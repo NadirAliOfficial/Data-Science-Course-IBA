{
 "cells": [
  {
   "cell_type": "code",
   "execution_count": 1,
   "metadata": {},
   "outputs": [
    {
     "name": "stdout",
     "output_type": "stream",
     "text": [
      "Week 2 Day 3\n"
     ]
    }
   ],
   "source": [
    "print('Week 2 Day 3')"
   ]
  },
  {
   "cell_type": "code",
   "execution_count": 2,
   "metadata": {},
   "outputs": [
    {
     "name": "stdout",
     "output_type": "stream",
     "text": [
      "Nadir\n",
      "20\n",
      "Sukkur\n"
     ]
    }
   ],
   "source": [
    "#  Today we are going to learn about dictionary\n",
    "#  A dictionary is a collection of key-value pairs\n",
    "#  Each key is unique and maps to a specific value\n",
    "\n",
    "dic = {\n",
    "    'name': 'Nadir',\n",
    "    'age': 20,\n",
    "    'city': 'Sukkur'\n",
    "}\n",
    "\n",
    "# Accessing values using keys\n",
    "print(dic['name'])  # Output: Nadir\n",
    "print(dic['age'])   # Output: 20\n",
    "print(dic['city'])  # Output: Sukkur"
   ]
  },
  {
   "cell_type": "code",
   "execution_count": 4,
   "metadata": {},
   "outputs": [
    {
     "name": "stdout",
     "output_type": "stream",
     "text": [
      "{'name': 'Nadir', 'age': 20, 'city': 'Sukkur', 'marks': 834}\n",
      "{'name': 'Nadir', 'age': 20, 'city': 'Sukkur', 'marks': 834, 'Qualification': 'Intermediate'}\n"
     ]
    }
   ],
   "source": [
    "#  adding values to the dictionary\n",
    "dic['marks'] = 834\n",
    "print(dic)\n",
    "\n",
    "dic['Qualification'] = 'Intermediate'\n",
    "print(dic)\n"
   ]
  },
  {
   "cell_type": "code",
   "execution_count": 12,
   "metadata": {},
   "outputs": [
    {
     "name": "stdout",
     "output_type": "stream",
     "text": [
      "345678\n"
     ]
    }
   ],
   "source": [
    "phone = {\n",
    "    'Nadir': 123456,\n",
    "    'Ali': 234567,\n",
    "    'Faraz': 345678,\n",
    "    'Hassan': 456789,\n",
    "    'Ubaid': 567890\n",
    "}\n",
    "\n",
    "name = input('Enter name to search number:').title()\n",
    "\n",
    "if name in phone:\n",
    "    print(phone[name])\n",
    "else:\n",
    "    print('Name not found')\n"
   ]
  },
  {
   "cell_type": "code",
   "execution_count": 20,
   "metadata": {},
   "outputs": [
    {
     "name": "stdout",
     "output_type": "stream",
     "text": [
      "Maximum Marks: 90\n",
      "Maximum Marks Name: ['Nadir']\n"
     ]
    }
   ],
   "source": [
    "marks = {\n",
    "    'Nadir': 90,\n",
    "    'Ali': 80,\n",
    "    'Faraz': 70,\n",
    "    'Hassan': 60,\n",
    "    'Ubaid': 50\n",
    "}\n",
    "\n",
    "\n",
    "#  Finding Maximum Marks\n",
    "max_marks = max(marks.values())\n",
    "\n",
    "# ALso print name\n",
    "max_marks_name = [name for name, marks in marks.items() if marks == max_marks]\n",
    "print(f'Maximum Marks: {max_marks}')\n",
    "print(f'Maximum Marks Name: {max_marks_name}')"
   ]
  },
  {
   "cell_type": "code",
   "execution_count": 25,
   "metadata": {},
   "outputs": [
    {
     "name": "stdout",
     "output_type": "stream",
     "text": [
      "Minimum Marks: 50\n",
      "Minimum Marks Name: ['Ubaid']\n"
     ]
    }
   ],
   "source": [
    "min_marks = min(marks.values())\n",
    "min_marks\n",
    "min_marks_name = [name for name, marks in marks.items() if marks == min_marks]\n",
    "print(f'Minimum Marks: {min_marks}')\n",
    "print(f'Minimum Marks Name: {min_marks_name}')"
   ]
  },
  {
   "cell_type": "code",
   "execution_count": null,
   "metadata": {},
   "outputs": [
    {
     "name": "stdout",
     "output_type": "stream",
     "text": [
      "{'a': 1, 'b': 2, 'c': 3, 'd': 4}\n"
     ]
    }
   ],
   "source": [
    "#  Combingng two dictionaries\n",
    "\n",
    "d1 = {'a': 1, 'b': 2}\n",
    "d2 = {'c': 3, 'd': 4}\n",
    "\n",
    "d3 = d1 | d2 \n",
    "print(d3)"
   ]
  },
  {
   "cell_type": "code",
   "execution_count": 32,
   "metadata": {},
   "outputs": [
    {
     "data": {
      "text/plain": [
       "{'a': 1, 'b': 2, 'c': 3, 'd': 4}"
      ]
     },
     "execution_count": 32,
     "metadata": {},
     "output_type": "execute_result"
    }
   ],
   "source": [
    "d3 = {**d1, **d2}\n",
    "d3"
   ]
  },
  {
   "cell_type": "code",
   "execution_count": 38,
   "metadata": {},
   "outputs": [
    {
     "name": "stdout",
     "output_type": "stream",
     "text": [
      "1\n",
      "8\n"
     ]
    }
   ],
   "source": [
    "for value in d1.values():\n",
    "    print(pow(value, 3))"
   ]
  },
  {
   "cell_type": "code",
   "execution_count": 52,
   "metadata": {},
   "outputs": [
    {
     "name": "stdout",
     "output_type": "stream",
     "text": [
      "We are learning Data Science Course\n"
     ]
    }
   ],
   "source": [
    "# creating a file and saving data into it \n",
    "with open('/home/nak/Data-Science-Course-IBA/data/data.txt', 'w') as file:\n",
    "    file.write('We are learning Data Science Course')\n",
    "    file.close\n",
    "\n",
    "# reading data from a file\n",
    "with open('/home/nak/Data-Science-Course-IBA/data/data.txt', 'r') as file:\n",
    "    data = file.read()\n",
    "    print(data)"
   ]
  },
  {
   "cell_type": "code",
   "execution_count": null,
   "metadata": {},
   "outputs": [],
   "source": []
  },
  {
   "cell_type": "code",
   "execution_count": null,
   "metadata": {},
   "outputs": [],
   "source": []
  }
 ],
 "metadata": {
  "kernelspec": {
   "display_name": "base",
   "language": "python",
   "name": "python3"
  },
  "language_info": {
   "codemirror_mode": {
    "name": "ipython",
    "version": 3
   },
   "file_extension": ".py",
   "mimetype": "text/x-python",
   "name": "python",
   "nbconvert_exporter": "python",
   "pygments_lexer": "ipython3",
   "version": "3.12.2"
  }
 },
 "nbformat": 4,
 "nbformat_minor": 2
}
