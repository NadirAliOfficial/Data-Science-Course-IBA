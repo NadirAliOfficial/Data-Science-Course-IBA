{
 "cells": [
  {
   "cell_type": "code",
   "execution_count": 1,
   "metadata": {},
   "outputs": [
    {
     "name": "stdout",
     "output_type": "stream",
     "text": [
      "Week 1 Day 4\n"
     ]
    }
   ],
   "source": [
    "print('Week 1 Day 4')"
   ]
  },
  {
   "cell_type": "code",
   "execution_count": 6,
   "metadata": {},
   "outputs": [
    {
     "name": "stdout",
     "output_type": "stream",
     "text": [
      "You are under 18 and you are not eligible for a loan\n"
     ]
    }
   ],
   "source": [
    "age = int(input('Enter your age:'))\n",
    "\n",
    "if age >= 18:\n",
    "    salary = int(input('Enter your salary: '))\n",
    "    if salary >= 50000:\n",
    "        print('You are eligible for a loan.')\n",
    "    else:\n",
    "         print('You are not eligible for a loan.')\n",
    "else:\n",
    "    print('You are under 18 and you are not eligible for a loan')\n"
   ]
  },
  {
   "cell_type": "code",
   "execution_count": null,
   "metadata": {},
   "outputs": [
    {
     "name": "stdout",
     "output_type": "stream",
     "text": [
      "You must have a job\n"
     ]
    }
   ],
   "source": [
    "country = input('Enter your country: ')\n",
    "\n",
    "\n",
    "\n",
    "if country != 'Pakistan':\n",
    "    age = int(input('Enter your age: '))\n",
    "    if age >= 18:\n",
    "        job = input('yes/no')\n",
    "        if job == 'yes':\n",
    "            salary = int(input('Enter your salary: '))\n",
    "            if salary >= 10000:\n",
    "                print('You are eligible for a loan.')\n",
    "            else:\n",
    "                print('You must have 10000 Salary')\n",
    "        else:\n",
    "            print('You must have a job')\n",
    "    else:\n",
    "        print('You Must be 18 to get a loan')\n",
    "else:\n",
    "    print('Saeen Maaf Kayu Asan Khe')\n",
    "\n"
   ]
  },
  {
   "cell_type": "code",
   "execution_count": 16,
   "metadata": {},
   "outputs": [
    {
     "name": "stdout",
     "output_type": "stream",
     "text": [
      "Highest chance for addmission\n"
     ]
    }
   ],
   "source": [
    "qualifications = input('Enter your qualifiers: ')\n",
    "\n",
    "if qualifications == 'Intermediate':\n",
    "    marks = int(input('Enter your marks: '))\n",
    "    if marks >= 90:\n",
    "        print('Highest chance for addmission')\n",
    "    elif marks >= 80:\n",
    "        print('Medium chance for addmission')\n",
    "    elif marks >= 60:\n",
    "        print('Low chance for addmission')\n",
    "    else:\n",
    "        print('No chance for addmission')\n",
    "else:\n",
    "    print('You must have Intermediate qualifications')\n",
    "\n"
   ]
  },
  {
   "cell_type": "code",
   "execution_count": 36,
   "metadata": {},
   "outputs": [
    {
     "name": "stdout",
     "output_type": "stream",
     "text": [
      "You are fail in Python\n"
     ]
    }
   ],
   "source": [
    "py = int(input('Enter your marks for python'))\n",
    "\n",
    "if py >= 40:\n",
    "    math = int(input('Enter your marks for maths: '))\n",
    "    if math >= 40:\n",
    "        ds = int(input('Enter your marks for Data science: '))\n",
    "        if ds >= 40:\n",
    "            print('You are pass in all subjects')\n",
    "        else:\n",
    "            print('You are fail in Data Science')\n",
    "    else:\n",
    "        print('You are fail in Maths')\n",
    "else:\n",
    "    print('You are fail in Python')"
   ]
  },
  {
   "cell_type": "code",
   "execution_count": 39,
   "metadata": {},
   "outputs": [
    {
     "name": "stdout",
     "output_type": "stream",
     "text": [
      "Upper case: NADIR ALI KHAN\n",
      "Lower case: nadir ali khan\n",
      "Capitalized: Nadir ali khan\n",
      "Title: Nadir Ali Khan\n",
      "Count of 'K': 1\n",
      "Index of 'a': 1\n"
     ]
    }
   ],
   "source": [
    "name = 'Nadir Ali Khan'\n",
    "print(f\"Upper case: {name.upper()}\")\n",
    "print(f\"Lower case: {name.lower()}\")\n",
    "print(f\"Capitalized: {name.capitalize()}\")\n",
    "print(f\"Title: {name.title()}\")\n",
    "print(f\"Count of 'K': {name.count('K')}\")\n",
    "print(f\"Index of 'a': {name.index('a')}\")"
   ]
  },
  {
   "cell_type": "code",
   "execution_count": 34,
   "metadata": {},
   "outputs": [
    {
     "name": "stdout",
     "output_type": "stream",
     "text": [
      "Right aligned:       Nadir Ali Khan\n",
      "Left aligned: Nadir Ali Khan      \n",
      "Center aligned:    Nadir Ali Khan   \n"
     ]
    }
   ],
   "source": [
    "# for right and left space with center alignment\n",
    "print(f\"Right aligned: {name.rjust(20)}\")\n",
    "print(f\"Left aligned: {name.ljust(20)}\")\n",
    "print(f\"Center aligned: {name.center(20)}\")"
   ]
  },
  {
   "cell_type": "code",
   "execution_count": null,
   "metadata": {},
   "outputs": [],
   "source": []
  }
 ],
 "metadata": {
  "kernelspec": {
   "display_name": "base",
   "language": "python",
   "name": "python3"
  },
  "language_info": {
   "codemirror_mode": {
    "name": "ipython",
    "version": 3
   },
   "file_extension": ".py",
   "mimetype": "text/x-python",
   "name": "python",
   "nbconvert_exporter": "python",
   "pygments_lexer": "ipython3",
   "version": "3.12.2"
  }
 },
 "nbformat": 4,
 "nbformat_minor": 2
}
