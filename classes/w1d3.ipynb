{
 "cells": [
  {
   "cell_type": "code",
   "execution_count": null,
   "metadata": {},
   "outputs": [
    {
     "name": "stdout",
     "output_type": "stream",
     "text": [
      "Week 1, Day 3\n"
     ]
    }
   ],
   "source": [
    "print(f\"Week 1, Day 3\")"
   ]
  },
  {
   "cell_type": "code",
   "execution_count": 41,
   "metadata": {},
   "outputs": [
    {
     "name": "stdout",
     "output_type": "stream",
     "text": [
      "Your age is 12 years\n",
      "You are not eligible to vote. You need to wait 6 years.\n"
     ]
    }
   ],
   "source": [
    "# Today we are going to learn something new\n",
    "age = int(input('Enter your age: '))\n",
    "print(f'Your age is {age} years')\n",
    "if age >= 18:\n",
    "    print('You are eligible to vote.')\n",
    "else:\n",
    "    print(f'You are not eligible to vote. You need to wait {18 - age} years.')"
   ]
  },
  {
   "cell_type": "code",
   "execution_count": 9,
   "metadata": {},
   "outputs": [
    {
     "name": "stdout",
     "output_type": "stream",
     "text": [
      "Subtraction: 20\n"
     ]
    }
   ],
   "source": [
    "num1 = int(input('Enter first number: '))\n",
    "num2 = int(input('Enter second number: '))\n",
    "choice = input(' + | - | * | /')\n",
    "\n",
    "if choice == '+':\n",
    "    print('Addition:', num1+num2)\n",
    "elif choice == '-':\n",
    "    print('Subtraction:', num1-num2)\n",
    "elif choice == '*':\n",
    "    print('Multiplication:', num1*num2)\n",
    "elif choice == '/':\n",
    "    if num2!=0:\n",
    "        print('Division:', num1/num2)\n",
    "    else:\n",
    "        print('Error: Division by zero')\n",
    "else:\n",
    "    print('Error: Invalid choice')\n"
   ]
  },
  {
   "cell_type": "code",
   "execution_count": null,
   "metadata": {},
   "outputs": [
    {
     "name": "stdout",
     "output_type": "stream",
     "text": [
      "Your Grade is A\n"
     ]
    }
   ],
   "source": [
    "marks = int(input('Please enter your marks'))\n",
    "\n",
    "if marks > 90:\n",
    "    print('Your Grade is A+')\n",
    "elif marks > 80:\n",
    "    print('Your Grade is A')\n",
    "elif marks > 70:\n",
    "    print('Your Grade is B+')\n",
    "elif marks > 60:\n",
    "    print('Your Grade is B')\n",
    "elif marks > 50:\n",
    "    print('Your Grade is C')\n",
    "else:\n",
    "    print('Your are Fail.')"
   ]
  },
  {
   "cell_type": "code",
   "execution_count": null,
   "metadata": {},
   "outputs": [
    {
     "name": "stdout",
     "output_type": "stream",
     "text": [
      "[44, 30, 54, 57, 98, 70, 48, 42, 90, 97]\n"
     ]
    }
   ],
   "source": [
    "import random\n",
    "# ten random\n",
    "lst = []\n",
    "for i in range(10):\n",
    "    numbers = random.randint(1, 100)\n",
    "    lst.append(numbers)\n",
    "\n",
    "print(lst)"
   ]
  },
  {
   "cell_type": "code",
   "execution_count": null,
   "metadata": {},
   "outputs": [],
   "source": []
  },
  {
   "cell_type": "code",
   "execution_count": null,
   "metadata": {},
   "outputs": [
    {
     "data": {
      "text/plain": [
       "[3, 8, 6]"
      ]
     },
     "execution_count": 17,
     "metadata": {},
     "output_type": "execute_result"
    }
   ],
   "source": [
    "random.sample(range(1,10), 3)"
   ]
  },
  {
   "cell_type": "code",
   "execution_count": 39,
   "metadata": {},
   "outputs": [
    {
     "name": "stdout",
     "output_type": "stream",
     "text": [
      "7\n",
      "Number is between 4 and 7\n"
     ]
    }
   ],
   "source": [
    "import random\n",
    "\n",
    "num = random.randint(1,10)\n",
    "\n",
    "print(num)\n",
    "if 1 <= num <= 3:\n",
    "    print('Number is between 1 and 3')\n",
    "elif 4 <= num <= 7:\n",
    "    print('Number is between 4 and 7')\n",
    "elif 8 <= num <= 10:\n",
    "    print('Number is between 8 and 10')"
   ]
  },
  {
   "cell_type": "code",
   "execution_count": 42,
   "metadata": {},
   "outputs": [
    {
     "name": "stdout",
     "output_type": "stream",
     "text": [
      "14\n"
     ]
    }
   ],
   "source": [
    "name = 'Daniyal Pitafi'\n",
    "\n",
    "print(len(name))"
   ]
  },
  {
   "cell_type": "code",
   "execution_count": null,
   "metadata": {},
   "outputs": [],
   "source": []
  }
 ],
 "metadata": {
  "kernelspec": {
   "display_name": "base",
   "language": "python",
   "name": "python3"
  },
  "language_info": {
   "codemirror_mode": {
    "name": "ipython",
    "version": 3
   },
   "file_extension": ".py",
   "mimetype": "text/x-python",
   "name": "python",
   "nbconvert_exporter": "python",
   "pygments_lexer": "ipython3",
   "version": "3.12.2"
  }
 },
 "nbformat": 4,
 "nbformat_minor": 2
}
