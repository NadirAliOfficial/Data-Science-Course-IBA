{
 "cells": [
  {
   "cell_type": "code",
   "execution_count": null,
   "metadata": {},
   "outputs": [],
   "source": [
    "print('Week 1 Day 2')"
   ]
  },
  {
   "cell_type": "code",
   "execution_count": null,
   "metadata": {},
   "outputs": [],
   "source": [
    "#  Area of Rectangle\n",
    "h = 12.2\n",
    "w = 19.12\n",
    "area = h * w\n",
    "\n",
    "print(area)\n",
    "round(area, 2)\n"
   ]
  },
  {
   "cell_type": "code",
   "execution_count": null,
   "metadata": {},
   "outputs": [],
   "source": [
    "#  Area of Circle\n",
    "#  = πr^2\n",
    "r = 12\n",
    "area_circle = 3.14* r**2\n",
    "\n",
    "print(\"Area of Circle is \", area_circle)\n",
    "round(area_circle, 2)"
   ]
  },
  {
   "cell_type": "code",
   "execution_count": null,
   "metadata": {},
   "outputs": [],
   "source": [
    "#  Area of Triangle\n",
    "w = 12.1\n",
    "l = 4.2\n",
    "area = ( w * l) * 1/2\n",
    "print(\"Area of Triangle is: \", area)"
   ]
  },
  {
   "cell_type": "code",
   "execution_count": null,
   "metadata": {},
   "outputs": [],
   "source": [
    "# user input \n",
    "#  Area of Triangle\n",
    "w = float(input('Enter the width: '))\n",
    "l = float(input(\"Enter the height: \"))\n",
    "\n",
    "print(\"Types: \",type(w), type(l))\n",
    "\n",
    "print('----------------------------------------')\n",
    "\n",
    "area = ( w * l) * 1/2\n",
    "print(\"Area of Triangle is: \", round(area, 2))"
   ]
  },
  {
   "cell_type": "code",
   "execution_count": 59,
   "metadata": {},
   "outputs": [
    {
     "name": "stdout",
     "output_type": "stream",
     "text": [
      "Nadir\n"
     ]
    }
   ],
   "source": [
    "name = input('Enter your name: ')\n",
    "print(name)"
   ]
  },
  {
   "cell_type": "code",
   "execution_count": 76,
   "metadata": {},
   "outputs": [
    {
     "name": "stdout",
     "output_type": "stream",
     "text": [
      "Calculation of: 3 and 434\n",
      "Addition:  437\n",
      "Subtraction:  -431\n",
      "Multiplication:  1302\n",
      "Division:  0.0069124423963133645\n"
     ]
    }
   ],
   "source": [
    "num1 = int(input('Enter first number: '))\n",
    "num2 = int(input('Enter second number: '))\n",
    "\n",
    "addition = num1 + num2\n",
    "subtraction = num1 - num2\n",
    "multiplication = num1 * num2\n",
    "division = num1 / num2\n",
    "\n",
    "print('Calculation of:', num1,'and', num2)\n",
    "print('Addition: ', addition)\n",
    "print('Subtraction: ', subtraction)\n",
    "print('Multiplication: ', multiplication)\n",
    "print('Division: ', division)"
   ]
  },
  {
   "cell_type": "code",
   "execution_count": null,
   "metadata": {},
   "outputs": [],
   "source": []
  },
  {
   "cell_type": "code",
   "execution_count": null,
   "metadata": {},
   "outputs": [],
   "source": []
  }
 ],
 "metadata": {
  "kernelspec": {
   "display_name": "base",
   "language": "python",
   "name": "python3"
  },
  "language_info": {
   "codemirror_mode": {
    "name": "ipython",
    "version": 3
   },
   "file_extension": ".py",
   "mimetype": "text/x-python",
   "name": "python",
   "nbconvert_exporter": "python",
   "pygments_lexer": "ipython3",
   "version": "3.12.2"
  }
 },
 "nbformat": 4,
 "nbformat_minor": 2
}
