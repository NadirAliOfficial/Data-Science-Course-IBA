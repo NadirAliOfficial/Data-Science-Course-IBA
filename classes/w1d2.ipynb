{
 "cells": [
  {
   "cell_type": "code",
   "execution_count": 1,
   "metadata": {},
   "outputs": [
    {
     "name": "stdout",
     "output_type": "stream",
     "text": [
      "Week 1 Day 2\n"
     ]
    }
   ],
   "source": [
    "print('Week 1 Day 2')"
   ]
  },
  {
   "cell_type": "code",
   "execution_count": 13,
   "metadata": {},
   "outputs": [
    {
     "name": "stdout",
     "output_type": "stream",
     "text": [
      "233.264\n"
     ]
    },
    {
     "data": {
      "text/plain": [
       "233.26"
      ]
     },
     "execution_count": 13,
     "metadata": {},
     "output_type": "execute_result"
    }
   ],
   "source": [
    "#  Area of Rectangle\n",
    "h = 12.2\n",
    "w = 19.12\n",
    "area = h * w\n",
    "\n",
    "print(area)\n",
    "round(area, 2)\n"
   ]
  },
  {
   "cell_type": "code",
   "execution_count": 25,
   "metadata": {},
   "outputs": [
    {
     "name": "stdout",
     "output_type": "stream",
     "text": [
      "Area of Circle is  452.16\n"
     ]
    },
    {
     "data": {
      "text/plain": [
       "452.16"
      ]
     },
     "execution_count": 25,
     "metadata": {},
     "output_type": "execute_result"
    }
   ],
   "source": [
    "#  Area of Circle\n",
    "#  = πr^2\n",
    "r = 12\n",
    "area_circle = 3.14* r**2\n",
    "\n",
    "print(\"Area of Circle is \", area_circle)\n",
    "round(area_circle, 2)"
   ]
  },
  {
   "cell_type": "code",
   "execution_count": 31,
   "metadata": {},
   "outputs": [
    {
     "name": "stdout",
     "output_type": "stream",
     "text": [
      "Area of Triangle is:  25.41\n"
     ]
    }
   ],
   "source": [
    "#  Area of Triangle\n",
    "w = 12.1\n",
    "l = 4.2\n",
    "area = ( w * l) * 1/2\n",
    "print(\"Area of Triangle is: \", area)"
   ]
  },
  {
   "cell_type": "code",
   "execution_count": 56,
   "metadata": {},
   "outputs": [
    {
     "name": "stdout",
     "output_type": "stream",
     "text": [
      "Types:  <class 'float'> <class 'float'>\n",
      "----------------------------------------\n",
      "Area of Triangle is:  72.0\n"
     ]
    }
   ],
   "source": [
    "# user input \n",
    "#  Area of Triangle\n",
    "w = float(input('Enter the width: '))\n",
    "l = float(input(\"Enter the height: \"))\n",
    "\n",
    "print(\"Types: \",type(w), type(l))\n",
    "\n",
    "print('----------------------------------------')\n",
    "\n",
    "area = ( w * l) * 1/2\n",
    "print(\"Area of Triangle is: \", round(area, 2))"
   ]
  },
  {
   "cell_type": "code",
   "execution_count": null,
   "metadata": {},
   "outputs": [],
   "source": []
  },
  {
   "cell_type": "code",
   "execution_count": null,
   "metadata": {},
   "outputs": [],
   "source": []
  }
 ],
 "metadata": {
  "kernelspec": {
   "display_name": "base",
   "language": "python",
   "name": "python3"
  },
  "language_info": {
   "codemirror_mode": {
    "name": "ipython",
    "version": 3
   },
   "file_extension": ".py",
   "mimetype": "text/x-python",
   "name": "python",
   "nbconvert_exporter": "python",
   "pygments_lexer": "ipython3",
   "version": "3.12.2"
  }
 },
 "nbformat": 4,
 "nbformat_minor": 2
}
