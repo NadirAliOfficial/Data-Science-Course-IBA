{
 "cells": [
  {
   "cell_type": "code",
   "execution_count": null,
   "metadata": {},
   "outputs": [],
   "source": [
    "print('Week 1 Day 5')"
   ]
  },
  {
   "cell_type": "code",
   "execution_count": null,
   "metadata": {},
   "outputs": [],
   "source": [
    "age = int(input('Enter your age: '))\n",
    "perc = float(input(' Enter your perc: '))\n",
    "\n",
    "if age >= 18 and perc >=75:\n",
    "    print('Selected')\n",
    "else:\n",
    "    print('Not selected')"
   ]
  },
  {
   "cell_type": "code",
   "execution_count": null,
   "metadata": {},
   "outputs": [],
   "source": [
    "temp = int(input('Enter Temperature: '))\n",
    "humidity = int(input('Enter Humidity: '))\n",
    "\n",
    "if humidity > 50 and humidity < 60 and temp > 30 and temp < 35:\n",
    "    print('Bad Room Atmosphere')\n",
    "elif humidity > 60 and temp > 35:\n",
    "    print('Extremely Worst Room Atmosphere')\n",
    "else:\n",
    "    print('Normal Room Atmosphere')"
   ]
  },
  {
   "cell_type": "markdown",
   "metadata": {},
   "source": [
    "## Using Loops\n",
    "What is Loop\n",
    "A loop is a control structure that allows a <br>\n",
    "program to repeat a set of instructions multiple times"
   ]
  },
  {
   "cell_type": "code",
   "execution_count": null,
   "metadata": {},
   "outputs": [],
   "source": [
    "for i in range(3,9):\n",
    "    print(i)"
   ]
  },
  {
   "cell_type": "code",
   "execution_count": null,
   "metadata": {},
   "outputs": [],
   "source": [
    "for x in range(10):\n",
    "    print(x, 'Nadir Ali')"
   ]
  },
  {
   "cell_type": "code",
   "execution_count": 102,
   "metadata": {},
   "outputs": [
    {
     "name": "stdout",
     "output_type": "stream",
     "text": [
      "You are Pass\n",
      "Your are *** Fail\n",
      "Average Marks =  45.0\n"
     ]
    }
   ],
   "source": [
    "#  Avg Of Marks\n",
    "sum = 0\n",
    "avg = 0\n",
    "for n in range(1,3):\n",
    "    m = int(input(f'Enter marks for the Student: {n}'))\n",
    "    if m > 60:\n",
    "        print('You are Pass')\n",
    "    else:\n",
    "        print('Your are *** Fail')\n",
    "    sum += m\n",
    "    avg += 1\n",
    "\n",
    "print('Average Marks = ',sum/avg)"
   ]
  },
  {
   "cell_type": "code",
   "execution_count": 108,
   "metadata": {},
   "outputs": [
    {
     "name": "stdout",
     "output_type": "stream",
     "text": [
      "Even Numbers\n",
      "2\n",
      "4\n",
      "6\n",
      "8\n",
      "10\n"
     ]
    }
   ],
   "source": [
    "print('Even Numbers')\n",
    "for even in range(2, 12, 2):\n",
    "    print(even)"
   ]
  },
  {
   "cell_type": "code",
   "execution_count": 121,
   "metadata": {},
   "outputs": [
    {
     "name": "stdout",
     "output_type": "stream",
     "text": [
      "Odd Numbers\n",
      "1\n",
      "3\n",
      "5\n",
      "7\n",
      "9\n"
     ]
    }
   ],
   "source": [
    "print('Odd Numbers')\n",
    "for odd in range(1,10,2):\n",
    "    print(odd)"
   ]
  },
  {
   "cell_type": "code",
   "execution_count": 119,
   "metadata": {},
   "outputs": [
    {
     "name": "stdout",
     "output_type": "stream",
     "text": [
      "1 Nadir\n",
      "2 Ali\n",
      "3 Ubed\n",
      "4 Farman\n"
     ]
    }
   ],
   "source": [
    "names = ['Nadir', 'Ali', 'Ubed', 'Farman']\n",
    "for i, name in enumerate(names, 1):\n",
    "    print(i, name)"
   ]
  },
  {
   "cell_type": "code",
   "execution_count": null,
   "metadata": {},
   "outputs": [],
   "source": []
  },
  {
   "cell_type": "code",
   "execution_count": null,
   "metadata": {},
   "outputs": [],
   "source": []
  },
  {
   "cell_type": "code",
   "execution_count": null,
   "metadata": {},
   "outputs": [],
   "source": []
  },
  {
   "cell_type": "code",
   "execution_count": null,
   "metadata": {},
   "outputs": [],
   "source": []
  }
 ],
 "metadata": {
  "kernelspec": {
   "display_name": "base",
   "language": "python",
   "name": "python3"
  },
  "language_info": {
   "codemirror_mode": {
    "name": "ipython",
    "version": 3
   },
   "file_extension": ".py",
   "mimetype": "text/x-python",
   "name": "python",
   "nbconvert_exporter": "python",
   "pygments_lexer": "ipython3",
   "version": "3.12.2"
  }
 },
 "nbformat": 4,
 "nbformat_minor": 2
}
