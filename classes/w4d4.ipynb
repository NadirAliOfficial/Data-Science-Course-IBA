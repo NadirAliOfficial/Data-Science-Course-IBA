{
 "cells": [
  {
   "cell_type": "code",
   "execution_count": 1,
   "metadata": {},
   "outputs": [
    {
     "name": "stdout",
     "output_type": "stream",
     "text": [
      "Week 4 Day 4\n"
     ]
    }
   ],
   "source": [
    "print('Week 4 Day 4')"
   ]
  },
  {
   "cell_type": "code",
   "execution_count": null,
   "metadata": {},
   "outputs": [],
   "source": [
    "# HasiTV\n"
   ]
  },
  {
   "cell_type": "code",
   "execution_count": 60,
   "metadata": {},
   "outputs": [
    {
     "data": {
      "text/html": [
       "<div>\n",
       "<style scoped>\n",
       "    .dataframe tbody tr th:only-of-type {\n",
       "        vertical-align: middle;\n",
       "    }\n",
       "\n",
       "    .dataframe tbody tr th {\n",
       "        vertical-align: top;\n",
       "    }\n",
       "\n",
       "    .dataframe thead th {\n",
       "        text-align: right;\n",
       "    }\n",
       "</style>\n",
       "<table border=\"1\" class=\"dataframe\">\n",
       "  <thead>\n",
       "    <tr style=\"text-align: right;\">\n",
       "      <th></th>\n",
       "      <th>Employee_ID</th>\n",
       "      <th>Department</th>\n",
       "      <th>Salary</th>\n",
       "      <th>Performance_Before_Training</th>\n",
       "      <th>Performance_After_Training</th>\n",
       "      <th>Training_Completed</th>\n",
       "    </tr>\n",
       "  </thead>\n",
       "  <tbody>\n",
       "    <tr>\n",
       "      <th>0</th>\n",
       "      <td>1</td>\n",
       "      <td>HR</td>\n",
       "      <td>69901</td>\n",
       "      <td>95</td>\n",
       "      <td>71</td>\n",
       "      <td>0</td>\n",
       "    </tr>\n",
       "    <tr>\n",
       "      <th>1</th>\n",
       "      <td>2</td>\n",
       "      <td>HR</td>\n",
       "      <td>44605</td>\n",
       "      <td>55</td>\n",
       "      <td>97</td>\n",
       "      <td>1</td>\n",
       "    </tr>\n",
       "    <tr>\n",
       "      <th>2</th>\n",
       "      <td>3</td>\n",
       "      <td>Finance</td>\n",
       "      <td>60757</td>\n",
       "      <td>53</td>\n",
       "      <td>62</td>\n",
       "      <td>0</td>\n",
       "    </tr>\n",
       "    <tr>\n",
       "      <th>3</th>\n",
       "      <td>4</td>\n",
       "      <td>HR</td>\n",
       "      <td>47306</td>\n",
       "      <td>97</td>\n",
       "      <td>87</td>\n",
       "      <td>1</td>\n",
       "    </tr>\n",
       "    <tr>\n",
       "      <th>4</th>\n",
       "      <td>5</td>\n",
       "      <td>Finance</td>\n",
       "      <td>114353</td>\n",
       "      <td>64</td>\n",
       "      <td>74</td>\n",
       "      <td>1</td>\n",
       "    </tr>\n",
       "  </tbody>\n",
       "</table>\n",
       "</div>"
      ],
      "text/plain": [
       "   Employee_ID Department  Salary  Performance_Before_Training  \\\n",
       "0            1         HR   69901                           95   \n",
       "1            2         HR   44605                           55   \n",
       "2            3    Finance   60757                           53   \n",
       "3            4         HR   47306                           97   \n",
       "4            5    Finance  114353                           64   \n",
       "\n",
       "   Performance_After_Training  Training_Completed  \n",
       "0                          71                   0  \n",
       "1                          97                   1  \n",
       "2                          62                   0  \n",
       "3                          87                   1  \n",
       "4                          74                   1  "
      ]
     },
     "execution_count": 60,
     "metadata": {},
     "output_type": "execute_result"
    }
   ],
   "source": [
    "import pandas as pd\n",
    "\n",
    "data = pd.read_csv('../data/employee_data.csv')\n",
    "df1 = pd.DataFrame(data)\n",
    "df1.head()"
   ]
  },
  {
   "cell_type": "code",
   "execution_count": 15,
   "metadata": {},
   "outputs": [
    {
     "name": "stdout",
     "output_type": "stream",
     "text": [
      "Stats: 0.931566926702201\n",
      "P-Value: 6.11421425795256e-05\n"
     ]
    }
   ],
   "source": [
    "# How to check whether Salary Column is Normally distributed or not\n",
    "# We will use Shapiro-Wilk test to check the normality of the data\n",
    "\n",
    "from scipy.stats import shapiro\n",
    "stats, p_value = shapiro(df['Salary'])\n",
    "\n",
    "# The second output is the p-value. If this value is less than 0.05, we reject the null hypothesis that the data is normally distributed.\n",
    "# If the p-value is greater than 0.05, we fail to reject the null hypothesis\n",
    "# In this case, the p-value is 0.000, which is less than 0\n",
    "# We reject the null hypothesis and conclude that the data is not normally distributed\n",
    "# This is expected because the data is skewed to the right\n",
    "\n",
    "print(f\"Stats: {stats}\\nP-Value: {p_value}\")\n",
    "\n",
    "\n",
    "\n"
   ]
  },
  {
   "cell_type": "code",
   "execution_count": null,
   "metadata": {},
   "outputs": [
    {
     "data": {
      "image/png": "[encoded data removed]",
      "text/plain": [
       "<Figure size 640x480 with 1 Axes>"
      ]
     },
     "metadata": {},
     "output_type": "display_data"
    }
   ],
   "source": [
    "import seaborn as sns\n",
    "import matplotlib.pyplot as plt\n",
    "\n",
    "# Now let's plot the histogram of Salary\n",
    "\n",
    "sns.histplot(df.Salary, kde=True, bins=20)\n",
    "plt.show()"
   ]
  },
  {
   "cell_type": "code",
   "execution_count": 16,
   "metadata": {},
   "outputs": [
    {
     "data": {
      "text/html": [
       "<div>\n",
       "<style scoped>\n",
       "    .dataframe tbody tr th:only-of-type {\n",
       "        vertical-align: middle;\n",
       "    }\n",
       "\n",
       "    .dataframe tbody tr th {\n",
       "        vertical-align: top;\n",
       "    }\n",
       "\n",
       "    .dataframe thead th {\n",
       "        text-align: right;\n",
       "    }\n",
       "</style>\n",
       "<table border=\"1\" class=\"dataframe\">\n",
       "  <thead>\n",
       "    <tr style=\"text-align: right;\">\n",
       "      <th></th>\n",
       "      <th>Employee_ID</th>\n",
       "      <th>Department</th>\n",
       "      <th>Performance_Before_Training</th>\n",
       "      <th>Performance_After_Training</th>\n",
       "      <th>Training_Completed</th>\n",
       "      <th>Salary</th>\n",
       "    </tr>\n",
       "  </thead>\n",
       "  <tbody>\n",
       "    <tr>\n",
       "      <th>0</th>\n",
       "      <td>1</td>\n",
       "      <td>Marketing</td>\n",
       "      <td>88</td>\n",
       "      <td>64</td>\n",
       "      <td>1</td>\n",
       "      <td>88503</td>\n",
       "    </tr>\n",
       "    <tr>\n",
       "      <th>1</th>\n",
       "      <td>2</td>\n",
       "      <td>Marketing</td>\n",
       "      <td>92</td>\n",
       "      <td>95</td>\n",
       "      <td>0</td>\n",
       "      <td>82437</td>\n",
       "    </tr>\n",
       "    <tr>\n",
       "      <th>2</th>\n",
       "      <td>3</td>\n",
       "      <td>IT</td>\n",
       "      <td>89</td>\n",
       "      <td>95</td>\n",
       "      <td>1</td>\n",
       "      <td>84769</td>\n",
       "    </tr>\n",
       "    <tr>\n",
       "      <th>3</th>\n",
       "      <td>4</td>\n",
       "      <td>Finance</td>\n",
       "      <td>85</td>\n",
       "      <td>67</td>\n",
       "      <td>1</td>\n",
       "      <td>87661</td>\n",
       "    </tr>\n",
       "    <tr>\n",
       "      <th>4</th>\n",
       "      <td>5</td>\n",
       "      <td>Marketing</td>\n",
       "      <td>51</td>\n",
       "      <td>71</td>\n",
       "      <td>1</td>\n",
       "      <td>82651</td>\n",
       "    </tr>\n",
       "  </tbody>\n",
       "</table>\n",
       "</div>"
      ],
      "text/plain": [
       "   Employee_ID Department  Performance_Before_Training  \\\n",
       "0            1  Marketing                           88   \n",
       "1            2  Marketing                           92   \n",
       "2            3         IT                           89   \n",
       "3            4    Finance                           85   \n",
       "4            5  Marketing                           51   \n",
       "\n",
       "   Performance_After_Training  Training_Completed  Salary  \n",
       "0                          64                   1   88503  \n",
       "1                          95                   0   82437  \n",
       "2                          95                   1   84769  \n",
       "3                          67                   1   87661  \n",
       "4                          71                   1   82651  "
      ]
     },
     "execution_count": 16,
     "metadata": {},
     "output_type": "execute_result"
    }
   ],
   "source": [
    "# Normal Data \n",
    "normal = pd.read_csv(\"../data/employee_data_normal.csv\")\n",
    "df = pd.DataFrame(normal)\n",
    "df.head()"
   ]
  },
  {
   "cell_type": "code",
   "execution_count": 20,
   "metadata": {},
   "outputs": [
    {
     "data": {
      "text/plain": [
       "Department\n",
       "Finance      88629.458333\n",
       "HR           75129.357143\n",
       "IT           85032.307692\n",
       "Marketing    81071.772727\n",
       "Name: Salary, dtype: float64"
      ]
     },
     "execution_count": 20,
     "metadata": {},
     "output_type": "execute_result"
    }
   ],
   "source": [
    "dep_group = df.groupby('Department')['Salary'].mean()\n",
    "dep_group"
   ]
  },
  {
   "cell_type": "code",
   "execution_count": 27,
   "metadata": {},
   "outputs": [
    {
     "name": "stdout",
     "output_type": "stream",
     "text": [
      "Stats: 0.948\n",
      "P-Value: 0.17\n",
      "............................................\n",
      "Stats: 0.988\n",
      "P-Value: 0.53\n"
     ]
    }
   ],
   "source": [
    "stats, p_value = shapiro(df[df.Department == 'HR']['Salary'])\n",
    "stats_1, p_value_1 = shapiro(df['Salary'])\n",
    "\n",
    "print(f\"Stats: {stats:.3f}\\nP-Value: {p_value:.2f}\")\n",
    "print(\"............................................\")\n",
    "print(f\"Stats: {stats_1:.3f}\\nP-Value: {p_value_1:.2f}\")"
   ]
  },
  {
   "cell_type": "code",
   "execution_count": 21,
   "metadata": {},
   "outputs": [
    {
     "data": {
      "image/png": "[encoded data removed]",
      "text/plain": [
       "<Figure size 640x480 with 1 Axes>"
      ]
     },
     "metadata": {},
     "output_type": "display_data"
    }
   ],
   "source": [
    "# shapiro test of HR department Salary\n",
    "\n",
    "sns.histplot(df[df.Department == 'HR']['Salary'], kde=True, bins=20)\n",
    "plt.show()"
   ]
  },
  {
   "cell_type": "code",
   "execution_count": 50,
   "metadata": {},
   "outputs": [
    {
     "name": "stdout",
     "output_type": "stream",
     "text": [
      "T-test P-value: 5.82299535554951e-69\n",
      "T-test Stat: 46.377\n"
     ]
    }
   ],
   "source": [
    "# t-test on salary \n",
    "from scipy.stats import ttest_1samp\n",
    "\n",
    "stat, value = ttest_1samp(df['Salary'], 50000)\n",
    "print(f\"T-test P-value: {value}\")\n",
    "print(f\"T-test Stat: {stat:.3f}\")\n"
   ]
  },
  {
   "cell_type": "code",
   "execution_count": null,
   "metadata": {},
   "outputs": [
    {
     "name": "stdout",
     "output_type": "stream",
     "text": [
      "P-value: 3.329951019818099e-11\n",
      "Reject the null hypothesis, IT and HR Salaries are not same (Significant Difference)\n"
     ]
    }
   ],
   "source": [
    "from scipy.stats import ttest_ind\n",
    "\n",
    "salary_IT = df[df['Department'] == 'IT']['Salary']\n",
    "salary_HR = df[df['Department'] == 'HR']['Salary']\n",
    "salary_Sales = df[df['Department'] == 'Sales']['Salary']\n",
    "f_stat, p_value = ttest_ind(salary_IT, salary_HR)\n",
    "print(f\"P-value: {p_value}\")\n",
    "\n",
    "if p_value < 0.05:\n",
    "    print(\"Reject the null hypothesis, IT and HR Salaries are not same (Significant Difference)\")\n",
    "else:\n",
    "    print(\"Fail to reject the null hypothesis, IT and HR Salaries are same (No Significant Difference)\")"
   ]
  },
  {
   "cell_type": "code",
   "execution_count": 83,
   "metadata": {},
   "outputs": [
    {
     "name": "stdout",
     "output_type": "stream",
     "text": [
      "P-value: 0.6047984597044143\n"
     ]
    }
   ],
   "source": [
    "#  Annovaa Test Now\n",
    "\n",
    "from scipy.stats import f_oneway\n",
    "\n",
    "salary_IT = df1[df1['Department'] == 'IT']['Salary']\n",
    "salary_HR = df1[df1['Department'] == 'HR']['Salary']\n",
    "salary_Marketing = df1[df1['Department'] == 'Marketing']['Salary']\n",
    "\n",
    "f_stat, p_value = f_oneway(salary_IT, salary_HR, salary_Marketing)\n",
    "print(f\"P-value: {p_value}\")"
   ]
  },
  {
   "cell_type": "code",
   "execution_count": 81,
   "metadata": {},
   "outputs": [
    {
     "name": "stdout",
     "output_type": "stream",
     "text": [
      "P-value: 0.6047984597044143\n"
     ]
    }
   ],
   "source": [
    "from scipy.stats import f_oneway\n",
    "\n",
    "# Ensure there are no NaN values and all groups have valid data\n",
    "df1['Salary'] = pd.to_numeric(df1['Salary'], errors='coerce')  # Ensure Salary is numeric\n",
    "df1 = df1.dropna(subset=['Salary', 'Department'])             # Drop rows with NaN in key columns\n",
    "\n",
    "# Group the salaries by department\n",
    "salary_IT = df1[df1['Department'] == 'IT']['Salary'].dropna()\n",
    "salary_HR = df1[df1['Department'] == 'HR']['Salary'].dropna()\n",
    "salary_Marketing = df1[df1['Department'] == 'Marketing']['Salary'].dropna()\n",
    "\n",
    "# Ensure all groups have data\n",
    "if len(salary_IT) > 0 and len(salary_HR) > 0 and len(salary_Sales) > 0:\n",
    "    f_stat, p_value = f_oneway(salary_IT, salary_HR, salary_Marketing)\n",
    "    print(f\"P-value: {p_value}\")\n",
    "else:\n",
    "    print(\"One or more groups are empty or have insufficient data.\")\n"
   ]
  },
  {
   "cell_type": "code",
   "execution_count": 86,
   "metadata": {},
   "outputs": [
    {
     "name": "stdout",
     "output_type": "stream",
     "text": [
      "Kruskal-Wallis Test P-value: 0.6020116609983333\n",
      "Fail to reject the null hypothesis, IT and HR Salaries are same (No Significant Difference)\n"
     ]
    }
   ],
   "source": [
    "from scipy.stats import kruskal\n",
    "k_stat, p_value = kruskal(salary_IT, salary_HR, salary_Marketing)\n",
    "print(f\"Kruskal-Wallis Test P-value: {p_value}\")\n",
    "if p_value < 0.05:\n",
    "    print(\"Reject the null hypothesis, IT and HR Salaries are not same (Significant Difference)\")\n",
    "else:\n",
    "    print(\"Fail to reject the null hypothesis, IT and HR Salaries are same (No Significant Difference)\")"
   ]
  },
  {
   "cell_type": "code",
   "execution_count": 88,
   "metadata": {},
   "outputs": [
    {
     "name": "stdout",
     "output_type": "stream",
     "text": [
      "Levene's Test P-value: 0.049299916220972476\n",
      "Reject the null hypothesis, IT and HR Salaries are not same (Significant Difference)\n"
     ]
    }
   ],
   "source": [
    "from scipy.stats import levene\n",
    "stat, p_value = levene(salary_IT, salary_HR, salary_Sales)\n",
    "print(f\"Levene's Test P-value: {p_value}\")\n",
    "if p_value < 0.05:\n",
    "    print(\"Reject the null hypothesis, IT and HR Salaries are not same (Significant Difference)\")\n",
    "else:\n",
    "    print(\"Fail to reject the null hypothesis, IT and HR Salaries are same (No Significant Difference)\")"
   ]
  },
  {
   "cell_type": "code",
   "execution_count": null,
   "metadata": {},
   "outputs": [],
   "source": []
  }
 ],
 "metadata": {
  "kernelspec": {
   "display_name": "base",
   "language": "python",
   "name": "python3"
  },
  "language_info": {
   "codemirror_mode": {
    "name": "ipython",
    "version": 3
   },
   "file_extension": ".py",
   "mimetype": "text/x-python",
   "name": "python",
   "nbconvert_exporter": "python",
   "pygments_lexer": "ipython3",
   "version": "3.12.2"
  }
 },
 "nbformat": 4,
 "nbformat_minor": 2
}
