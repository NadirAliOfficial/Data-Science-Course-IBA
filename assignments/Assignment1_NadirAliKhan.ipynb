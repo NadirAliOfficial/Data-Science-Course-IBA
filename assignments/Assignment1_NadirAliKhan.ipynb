{
 "cells": [
  {
   "cell_type": "markdown",
   "metadata": {},
   "source": [
    "### Name: Nadir Ali Khan\n",
    "### Date: 2024-11-22"
   ]
  },
  {
   "cell_type": "code",
   "execution_count": 1,
   "metadata": {},
   "outputs": [
    {
     "name": "stdout",
     "output_type": "stream",
     "text": [
      "Nadir Ali Khan\n"
     ]
    }
   ],
   "source": [
    "print('Nadir Ali Khan')"
   ]
  },
  {
   "cell_type": "markdown",
   "metadata": {},
   "source": [
    "Exercises    \n",
    "Question 1:  \n",
    "Write and run a program that performs the following steps:  \n",
    "• Create variable pi and radius r of related data type.  \n",
    "• Assign values to above variables.  \n",
    "• Calculating the circumference using the formula: C = 2 * pi * r.  \n",
    "• Displaying the circumference C."
   ]
  },
  {
   "cell_type": "code",
   "execution_count": 2,
   "metadata": {},
   "outputs": [
    {
     "name": "stdout",
     "output_type": "stream",
     "text": [
      "Circumference: 25.12\n"
     ]
    }
   ],
   "source": [
    "pi = 3.14\n",
    "r = 4\n",
    "C = 2 * pi * r\n",
    "print('Circumference:', C)"
   ]
  },
  {
   "cell_type": "markdown",
   "metadata": {},
   "source": [
    "Question 2:  \n",
    "Write and run a program that performs the following steps:  \n",
    "• Create variable f of related data type.  \n",
    "• Assign values to above variables.  \n",
    "• Calculating the equivalent Celsius temperature C using the formula:  \n",
    "    \n",
    "        C = (5/9) (f - 32).  \n",
    "  \n",
    "• Displaying the Celsius temperature C."
   ]
  },
  {
   "cell_type": "code",
   "execution_count": 6,
   "metadata": {},
   "outputs": [
    {
     "name": "stdout",
     "output_type": "stream",
     "text": [
      "Equivalent Celsius temperature: 10.0\n"
     ]
    }
   ],
   "source": [
    "f = 50\n",
    "C = (5/9) * (f - 32)\n",
    "print('Equivalent Celsius temperature:', C)"
   ]
  },
  {
   "cell_type": "markdown",
   "metadata": {},
   "source": [
    "Question 3:  \n",
    "Write a program to take initialVelocity and acceleration from user, save them in \n",
    "respective data types and calculate FINAL VELOCITY as per following formula:  \n",
    "  \n",
    "FINAL VELOCITY = initialVelocity + acceleration \n",
    "\n",
    "where:<br>\n",
    "u = initialVelocity<br>\n",
    "v = FinalVelocity<br>\n",
    "a = acceleration"
   ]
  },
  {
   "cell_type": "code",
   "execution_count": 7,
   "metadata": {},
   "outputs": [
    {
     "name": "stdout",
     "output_type": "stream",
     "text": [
      "Final Velocity: 44\n"
     ]
    }
   ],
   "source": [
    "u = int(input('Enter Initial Velocity: '))\n",
    "a = int(input('Enter Acceleration: '))\n",
    "\n",
    "v = u + a\n",
    "print('Final Velocity:', v)\n",
    "\n"
   ]
  },
  {
   "cell_type": "markdown",
   "metadata": {},
   "source": [
    "Question 4:  \n",
    "Take distance and time from user, save them in respective data types and calculate <br>\n",
    "SPEED as per following formula: <br>\n",
    "SPEED = distance / time"
   ]
  },
  {
   "cell_type": "code",
   "execution_count": 14,
   "metadata": {},
   "outputs": [
    {
     "name": "stdout",
     "output_type": "stream",
     "text": [
      "The Speed is:  0.6\n"
     ]
    }
   ],
   "source": [
    "distance = int(input('Enter distance: '))\n",
    "time = int(input('Enter time: '))\n",
    "\n",
    "speed = distance / time\n",
    "print('The Speed is: ', speed)"
   ]
  },
  {
   "cell_type": "markdown",
   "metadata": {},
   "source": [
    "Question 5:  \n",
    "Take mass and velocity from user, save them in respective data types and calculate <br>\n",
    "KINETIC ENERGY as per following formula:  <br><br>\n",
    "Kinetic Energy = 0.5 * m * v^2"
   ]
  },
  {
   "cell_type": "code",
   "execution_count": null,
   "metadata": {},
   "outputs": [
    {
     "name": "stdout",
     "output_type": "stream",
     "text": [
      "Kinetic Energy =  80.0\n"
     ]
    }
   ],
   "source": [
    "m = int(input('Enter mass: '))\n",
    "v = int(input('Enter Velocity: '))\n",
    "\n",
    "kinetic_energy = 1/2 * (m * (v**2))\n",
    "print('Kinetic Energy = ', kinetic_energy)"
   ]
  },
  {
   "cell_type": "markdown",
   "metadata": {},
   "source": [
    "Question 6:  \n",
    "Write a program that will ask UNIT PRICE of chocolate, ice-cream and french-fries. <br>\n",
    "Then your program will ask about (QUANTITY) how many chocolate, ice-cream and french-fries <br>\n",
    "you have to buy. In the end, you have to print the TOTAL BILL by simply multiplying <br>UNIT PRICE of chocolate with QUANTITY of chocolate and so \n",
    "on and so forth. \n"
   ]
  },
  {
   "cell_type": "code",
   "execution_count": 30,
   "metadata": {},
   "outputs": [
    {
     "name": "stdout",
     "output_type": "stream",
     "text": [
      "158\n"
     ]
    }
   ],
   "source": [
    "chocolate_price = int(input('Enter Unit Price for chocolate: '))\n",
    "ice_cream_price = int(input('Enter Unit Price for Ice Cream: '))\n",
    "fries_price = int(input('Enter Unit Price for French Fries: '))\n",
    "\n",
    "qty_chocolate = int(input('Enter QTY for the Chocolate(s)'))\n",
    "qty_ice_cream = int(input('Enter QTY for the Chocolate(s)'))\n",
    "qty_fries = int(input('Enter QTY for the Chocolate(s)'))\n",
    "\n",
    "\n",
    "chocolate_total = chocolate_price * qty_chocolate\n",
    "ice_cream_total = ice_cream_price * qty_ice_cream\n",
    "fries_total = fries_price * qty_fries\n",
    "\n",
    "grand_total = chocolate_total + ice_cream_total + fries_total\n",
    "\n",
    "print(grand_total)\n",
    "\n",
    "\n"
   ]
  },
  {
   "cell_type": "markdown",
   "metadata": {},
   "source": [
    "Question 7:  \n",
    "Make a program where it is asked form user to enter total amount, you have to <br>\n",
    "answer how much ZAKAT to be paid on that amount. ZAKAT is the 2.5% of the total \n",
    "amount. "
   ]
  },
  {
   "cell_type": "code",
   "execution_count": null,
   "metadata": {},
   "outputs": [
    {
     "name": "stdout",
     "output_type": "stream",
     "text": [
      "Total Amount = 120000\n",
      "Zakat =  3000.0\n"
     ]
    }
   ],
   "source": [
    "total_amount = int(input('Enter the total amount: '))\n",
    "\n",
    "zakat = total_amount * (2.5/100)\n",
    "\n",
    "print('Total Amount =', total_amount)\n",
    "print('Zakat = ', zakat)"
   ]
  },
  {
   "cell_type": "markdown",
   "metadata": {},
   "source": [
    "Question 8:  \n",
    "Write and run a program that reads an angle (expressed in degrees) and states in \n",
    "which quadrant the given angle lies.<br> An angle A is said to be in the  \n",
    "• First quadrant if it is in the range 0 <= A < 90  \n",
    "• second quadrant if it is in the range 90 <= A < 180  \n",
    "• third quadrant if it is in the range 180 <= A < 270  \n",
    "• and fourth quadrant if it is in the range 270 <= A < 360  "
   ]
  },
  {
   "cell_type": "code",
   "execution_count": 40,
   "metadata": {},
   "outputs": [
    {
     "name": "stdout",
     "output_type": "stream",
     "text": [
      "Angle:  -12.0\n",
      "Invalid Angle\n"
     ]
    }
   ],
   "source": [
    "A = float(input('Enter the degree of Angle: '))\n",
    "\n",
    "print('Angle: ', A)\n",
    "\n",
    "if 0 <= A < 90:\n",
    "    print('First Quadrant - I')\n",
    "elif 90 <= A < 180:\n",
    "    print('Second Quadrant - II')\n",
    "elif 180 <= A < 270:\n",
    "    print('Third Quadrant - III')\n",
    "elif 270 <= A <= 360:\n",
    "    print('Fourth Quadrant - IV')\n",
    "else:\n",
    "    print('Invalid Angle')"
   ]
  },
  {
   "cell_type": "markdown",
   "metadata": {},
   "source": []
  }
 ],
 "metadata": {
  "kernelspec": {
   "display_name": "base",
   "language": "python",
   "name": "python3"
  },
  "language_info": {
   "codemirror_mode": {
    "name": "ipython",
    "version": 3
   },
   "file_extension": ".py",
   "mimetype": "text/x-python",
   "name": "python",
   "nbconvert_exporter": "python",
   "pygments_lexer": "ipython3",
   "version": "3.12.2"
  }
 },
 "nbformat": 4,
 "nbformat_minor": 2
}
